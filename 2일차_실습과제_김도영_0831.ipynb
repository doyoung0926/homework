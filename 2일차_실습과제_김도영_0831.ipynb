{
 "cells": [
  {
   "cell_type": "markdown",
   "id": "311e00a2",
   "metadata": {},
   "source": [
    "# Linear Regression 구현\n",
    "### 아래 데이터를 이용하여 각 항목별 연관 관계를 분석하고 선형 회귀 분석 기법을 통해 상관 관계를 그래프로 표시하시오."
   ]
  },
  {
   "cell_type": "code",
   "execution_count": 298,
   "id": "6c0f7606",
   "metadata": {},
   "outputs": [
    {
     "data": {
      "text/html": [
       "<div>\n",
       "<style scoped>\n",
       "    .dataframe tbody tr th:only-of-type {\n",
       "        vertical-align: middle;\n",
       "    }\n",
       "\n",
       "    .dataframe tbody tr th {\n",
       "        vertical-align: top;\n",
       "    }\n",
       "\n",
       "    .dataframe thead th {\n",
       "        text-align: right;\n",
       "    }\n",
       "</style>\n",
       "<table border=\"1\" class=\"dataframe\">\n",
       "  <thead>\n",
       "    <tr style=\"text-align: right;\">\n",
       "      <th></th>\n",
       "      <th>year</th>\n",
       "      <th>month</th>\n",
       "      <th>interest_rate</th>\n",
       "      <th>unemployment_rate</th>\n",
       "      <th>index_price</th>\n",
       "    </tr>\n",
       "  </thead>\n",
       "  <tbody>\n",
       "    <tr>\n",
       "      <th>0</th>\n",
       "      <td>2017</td>\n",
       "      <td>12</td>\n",
       "      <td>2.75</td>\n",
       "      <td>5.3</td>\n",
       "      <td>1464</td>\n",
       "    </tr>\n",
       "    <tr>\n",
       "      <th>1</th>\n",
       "      <td>2017</td>\n",
       "      <td>11</td>\n",
       "      <td>2.50</td>\n",
       "      <td>5.3</td>\n",
       "      <td>1394</td>\n",
       "    </tr>\n",
       "    <tr>\n",
       "      <th>2</th>\n",
       "      <td>2017</td>\n",
       "      <td>10</td>\n",
       "      <td>2.50</td>\n",
       "      <td>5.3</td>\n",
       "      <td>1357</td>\n",
       "    </tr>\n",
       "    <tr>\n",
       "      <th>3</th>\n",
       "      <td>2017</td>\n",
       "      <td>9</td>\n",
       "      <td>2.50</td>\n",
       "      <td>5.3</td>\n",
       "      <td>1293</td>\n",
       "    </tr>\n",
       "    <tr>\n",
       "      <th>4</th>\n",
       "      <td>2017</td>\n",
       "      <td>8</td>\n",
       "      <td>2.50</td>\n",
       "      <td>5.4</td>\n",
       "      <td>1256</td>\n",
       "    </tr>\n",
       "    <tr>\n",
       "      <th>5</th>\n",
       "      <td>2017</td>\n",
       "      <td>7</td>\n",
       "      <td>2.50</td>\n",
       "      <td>5.6</td>\n",
       "      <td>1254</td>\n",
       "    </tr>\n",
       "    <tr>\n",
       "      <th>6</th>\n",
       "      <td>2017</td>\n",
       "      <td>6</td>\n",
       "      <td>2.50</td>\n",
       "      <td>5.5</td>\n",
       "      <td>1234</td>\n",
       "    </tr>\n",
       "    <tr>\n",
       "      <th>7</th>\n",
       "      <td>2017</td>\n",
       "      <td>5</td>\n",
       "      <td>2.25</td>\n",
       "      <td>5.5</td>\n",
       "      <td>1195</td>\n",
       "    </tr>\n",
       "    <tr>\n",
       "      <th>8</th>\n",
       "      <td>2017</td>\n",
       "      <td>4</td>\n",
       "      <td>2.25</td>\n",
       "      <td>5.5</td>\n",
       "      <td>1159</td>\n",
       "    </tr>\n",
       "    <tr>\n",
       "      <th>9</th>\n",
       "      <td>2017</td>\n",
       "      <td>3</td>\n",
       "      <td>2.25</td>\n",
       "      <td>5.6</td>\n",
       "      <td>1167</td>\n",
       "    </tr>\n",
       "    <tr>\n",
       "      <th>10</th>\n",
       "      <td>2017</td>\n",
       "      <td>2</td>\n",
       "      <td>2.00</td>\n",
       "      <td>5.7</td>\n",
       "      <td>1130</td>\n",
       "    </tr>\n",
       "    <tr>\n",
       "      <th>11</th>\n",
       "      <td>2017</td>\n",
       "      <td>1</td>\n",
       "      <td>2.00</td>\n",
       "      <td>5.9</td>\n",
       "      <td>1075</td>\n",
       "    </tr>\n",
       "    <tr>\n",
       "      <th>12</th>\n",
       "      <td>2016</td>\n",
       "      <td>12</td>\n",
       "      <td>2.00</td>\n",
       "      <td>6.0</td>\n",
       "      <td>1047</td>\n",
       "    </tr>\n",
       "    <tr>\n",
       "      <th>13</th>\n",
       "      <td>2016</td>\n",
       "      <td>11</td>\n",
       "      <td>1.75</td>\n",
       "      <td>5.9</td>\n",
       "      <td>965</td>\n",
       "    </tr>\n",
       "    <tr>\n",
       "      <th>14</th>\n",
       "      <td>2016</td>\n",
       "      <td>10</td>\n",
       "      <td>1.75</td>\n",
       "      <td>5.8</td>\n",
       "      <td>943</td>\n",
       "    </tr>\n",
       "    <tr>\n",
       "      <th>15</th>\n",
       "      <td>2016</td>\n",
       "      <td>9</td>\n",
       "      <td>1.75</td>\n",
       "      <td>6.1</td>\n",
       "      <td>958</td>\n",
       "    </tr>\n",
       "    <tr>\n",
       "      <th>16</th>\n",
       "      <td>2016</td>\n",
       "      <td>8</td>\n",
       "      <td>1.75</td>\n",
       "      <td>6.2</td>\n",
       "      <td>971</td>\n",
       "    </tr>\n",
       "    <tr>\n",
       "      <th>17</th>\n",
       "      <td>2016</td>\n",
       "      <td>7</td>\n",
       "      <td>1.75</td>\n",
       "      <td>6.1</td>\n",
       "      <td>949</td>\n",
       "    </tr>\n",
       "    <tr>\n",
       "      <th>18</th>\n",
       "      <td>2016</td>\n",
       "      <td>6</td>\n",
       "      <td>1.75</td>\n",
       "      <td>6.1</td>\n",
       "      <td>884</td>\n",
       "    </tr>\n",
       "    <tr>\n",
       "      <th>19</th>\n",
       "      <td>2016</td>\n",
       "      <td>5</td>\n",
       "      <td>1.75</td>\n",
       "      <td>6.1</td>\n",
       "      <td>866</td>\n",
       "    </tr>\n",
       "    <tr>\n",
       "      <th>20</th>\n",
       "      <td>2016</td>\n",
       "      <td>4</td>\n",
       "      <td>1.75</td>\n",
       "      <td>5.9</td>\n",
       "      <td>876</td>\n",
       "    </tr>\n",
       "    <tr>\n",
       "      <th>21</th>\n",
       "      <td>2016</td>\n",
       "      <td>3</td>\n",
       "      <td>1.75</td>\n",
       "      <td>6.2</td>\n",
       "      <td>822</td>\n",
       "    </tr>\n",
       "    <tr>\n",
       "      <th>22</th>\n",
       "      <td>2016</td>\n",
       "      <td>2</td>\n",
       "      <td>1.75</td>\n",
       "      <td>6.2</td>\n",
       "      <td>704</td>\n",
       "    </tr>\n",
       "    <tr>\n",
       "      <th>23</th>\n",
       "      <td>2016</td>\n",
       "      <td>1</td>\n",
       "      <td>1.75</td>\n",
       "      <td>6.1</td>\n",
       "      <td>719</td>\n",
       "    </tr>\n",
       "  </tbody>\n",
       "</table>\n",
       "</div>"
      ],
      "text/plain": [
       "    year  month  interest_rate  unemployment_rate  index_price\n",
       "0   2017     12           2.75                5.3         1464\n",
       "1   2017     11           2.50                5.3         1394\n",
       "2   2017     10           2.50                5.3         1357\n",
       "3   2017      9           2.50                5.3         1293\n",
       "4   2017      8           2.50                5.4         1256\n",
       "5   2017      7           2.50                5.6         1254\n",
       "6   2017      6           2.50                5.5         1234\n",
       "7   2017      5           2.25                5.5         1195\n",
       "8   2017      4           2.25                5.5         1159\n",
       "9   2017      3           2.25                5.6         1167\n",
       "10  2017      2           2.00                5.7         1130\n",
       "11  2017      1           2.00                5.9         1075\n",
       "12  2016     12           2.00                6.0         1047\n",
       "13  2016     11           1.75                5.9          965\n",
       "14  2016     10           1.75                5.8          943\n",
       "15  2016      9           1.75                6.1          958\n",
       "16  2016      8           1.75                6.2          971\n",
       "17  2016      7           1.75                6.1          949\n",
       "18  2016      6           1.75                6.1          884\n",
       "19  2016      5           1.75                6.1          866\n",
       "20  2016      4           1.75                5.9          876\n",
       "21  2016      3           1.75                6.2          822\n",
       "22  2016      2           1.75                6.2          704\n",
       "23  2016      1           1.75                6.1          719"
      ]
     },
     "execution_count": 298,
     "metadata": {},
     "output_type": "execute_result"
    }
   ],
   "source": [
    "import pandas as pd\n",
    "import matplotlib.pyplot as plt\n",
    "\n",
    "data = {'year': [2017,2017,2017,2017,2017,2017,2017,2017,2017,2017,2017,2017,2016,2016,2016,2016,2016,2016,2016,2016,2016,2016,2016,2016], \n",
    "        'month': [12,11,10,9,8,7,6,5,4,3,2,1,12,11,10,9,8,7,6,5,4,3,2,1],\n",
    "        'interest_rate': [2.75,2.5,2.5,2.5,2.5,2.5,2.5,2.25,2.25,2.25,2,2,2,1.75,1.75,1.75,1.75,1.75,1.75,1.75,1.75,1.75,1.75,1.75],\n",
    "        'unemployment_rate': [5.3,5.3,5.3,5.3,5.4,5.6,5.5,5.5,5.5,5.6,5.7,5.9,6,5.9,5.8,6.1,6.2,6.1,6.1,6.1,5.9,6.2,6.2,6.1],\n",
    "        'index_price': [1464,1394,1357,1293,1256,1254,1234,1195,1159,1167,1130,1075,1047,965,943,958,971,949,884,866,876,822,704,719]}\n",
    "\n",
    "df = pd.DataFrame(data)\n",
    "df"
   ]
  },
  {
   "cell_type": "code",
   "execution_count": 299,
   "id": "22986953",
   "metadata": {},
   "outputs": [
    {
     "data": {
      "image/png": "[encoded data removed]",
      "text/plain": [
       "<Figure size 432x288 with 1 Axes>"
      ]
     },
     "metadata": {
      "needs_background": "light"
     },
     "output_type": "display_data"
    }
   ],
   "source": [
    "# 물가지수와 이자율 산점도\n",
    "plt.scatter(df['interest_rate'], df['index_price'], color = 'red')\n",
    "plt.title('Index Price Vs Interest Rate')\n",
    "plt.xlabel('Interest Rate')\n",
    "plt.ylabel('Index Price')\n",
    "plt.grid(True)\n",
    "plt.show()"
   ]
  },
  {
   "cell_type": "code",
   "execution_count": 300,
   "id": "e615340a",
   "metadata": {},
   "outputs": [],
   "source": [
    "# 훈련 세트와 테스트 세트 준비\n",
    "from sklearn.model_selection import train_test_split\n",
    "import numpy as np\n",
    "\n",
    "train_input, test_input, train_target, test_target = train_test_split(\n",
    "df['interest_rate'], df['index_price'], random_state=42)\n",
    "\n",
    "train_input = np.array(train_input)\n",
    "test_input = np.array(test_input)\n",
    "\n",
    "# reshape(-1, 1): -1: 행의 크기를 자동 지정\n",
    "train_input = train_input.reshape(-1, 1)  # 2차원 배열로 변경\n",
    "test_input = test_input.reshape(-1, 1)  # 2차원 배열로 변경"
   ]
  },
  {
   "cell_type": "code",
   "execution_count": 301,
   "id": "c9d56a67",
   "metadata": {},
   "outputs": [
    {
     "name": "stdout",
     "output_type": "stream",
     "text": [
      "Interest Rate vs. Index Price\n",
      "coef_:[574.45637584], intercept_:-127.38255033557084\n"
     ]
    }
   ],
   "source": [
    "# 훈련 데이터를 이용한 직선 방정식 구하기\n",
    "from sklearn.linear_model import LinearRegression\n",
    "\n",
    "lr = LinearRegression()\n",
    "\n",
    "# 선형 회귀 모델 훈련\n",
    "lr.fit(train_input, train_target)\n",
    "\n",
    "# 기울기(a): codf_, 절편(bias): intercept_\n",
    "print('Interest Rate vs. Index Price\\n'f'coef_:{lr.coef_}, intercept_:{lr.intercept_}')"
   ]
  },
  {
   "cell_type": "code",
   "execution_count": 302,
   "id": "6be92502",
   "metadata": {},
   "outputs": [
    {
     "name": "stdout",
     "output_type": "stream",
     "text": [
      "train data score:  0.8541859618501457\n",
      "test data score:  0.941892392945057\n"
     ]
    }
   ],
   "source": [
    "print('train data score: ',\n",
    "     lr.score(train_input, train_target))\n",
    "print('test data score: ',\n",
    "     lr.score(test_input, test_target))"
   ]
  },
  {
   "cell_type": "code",
   "execution_count": 303,
   "id": "3cb1fd86",
   "metadata": {},
   "outputs": [
    {
     "data": {
      "image/png": "[encoded data removed]",
      "text/plain": [
       "<Figure size 432x288 with 1 Axes>"
      ]
     },
     "metadata": {
      "needs_background": "light"
     },
     "output_type": "display_data"
    }
   ],
   "source": [
    "# 기울기와 절편을 이용한 1차 방정식 그래프\n",
    "import matplotlib.pyplot as plt\n",
    "\n",
    "plt.scatter(train_input, train_target)\n",
    "\n",
    "# 1차 방정식 그래프 그리기\n",
    "# plot([x축 데이터:시작, 끝], [y축 데이터:시작, 끝])\n",
    "plt.plot([train_input.min(), train_input.max()], \n",
    "        [train_input.min()*lr.coef_ + lr.intercept_, train_input.max()*lr.coef_ + lr.intercept_],\n",
    "        color='red', linestyle='--')\n",
    "plt.title('Interest Rate Vs. Index Price')\n",
    "plt.xlabel('Interest Rate')\n",
    "plt.ylabel('Index Price')\n",
    "plt.show()"
   ]
  },
  {
   "cell_type": "markdown",
   "id": "d6ee686c",
   "metadata": {},
   "source": [
    "# 다항 회귀: 이자율과 물가지수 상관 관계 분석"
   ]
  },
  {
   "cell_type": "code",
   "execution_count": 304,
   "id": "855c5568",
   "metadata": {},
   "outputs": [],
   "source": [
    "# 훈련 세트에 데이터 추가\n",
    "train_poly = np.column_stack((train_input**2, train_input))\n",
    "test_poly = np.column_stack((test_input**2, test_input))"
   ]
  },
  {
   "cell_type": "code",
   "execution_count": 305,
   "id": "008dff0f",
   "metadata": {},
   "outputs": [
    {
     "data": {
      "image/png": "[encoded data removed]",
      "text/plain": [
       "<Figure size 432x288 with 1 Axes>"
      ]
     },
     "metadata": {
      "needs_background": "light"
     },
     "output_type": "display_data"
    }
   ],
   "source": [
    "# 다항 회귀식을 이용한 그래프 그리기\n",
    "point = np.arange(train_input.min(), train_input.max(), 0.1)\n",
    "\n",
    "plt.scatter(train_input, train_target)\n",
    "\n",
    "plt.plot(point, -524.84946237*point**2 + 2802.42473118*point -2429.1028225806517,\n",
    "        color='red', linestyle='--')\n",
    "plt.xlabel('Interest Rate')\n",
    "plt.ylabel('Index Price')\n",
    "plt.show()"
   ]
  },
  {
   "cell_type": "code",
   "execution_count": 306,
   "id": "55a3c54d",
   "metadata": {},
   "outputs": [
    {
     "name": "stdout",
     "output_type": "stream",
     "text": [
      "이자율과 물가지수 다항 회귀\n",
      "다항 회귀 coef_:[-524.84946237 2802.42473118], intercept_:-2429.1028225806517\n"
     ]
    }
   ],
   "source": [
    "# 다항 회귀식 구하기\n",
    "lr = LinearRegression()\n",
    "lr.fit(train_poly, train_target)\n",
    "\n",
    "print('이자율과 물가지수 다항 회귀\\n'f'다항 회귀 coef_:{lr.coef_}, intercept_:{lr.intercept_}')"
   ]
  },
  {
   "cell_type": "code",
   "execution_count": 307,
   "id": "78606171",
   "metadata": {},
   "outputs": [
    {
     "name": "stdout",
     "output_type": "stream",
     "text": [
      "다항 회귀 train data score: 0.8676269364555872\n",
      "다항 회귀 train data score: 0.7945265214367343\n"
     ]
    }
   ],
   "source": [
    "print('다항 회귀 train data score:', lr.score(train_poly, train_target))\n",
    "print('다항 회귀 train data score:', lr.score(test_poly, test_target))"
   ]
  },
  {
   "cell_type": "markdown",
   "id": "32e77d52",
   "metadata": {},
   "source": [
    "# 선형 회귀: 실업률과 물가지수 상관 관계 분석"
   ]
  },
  {
   "cell_type": "code",
   "execution_count": 308,
   "id": "6c616ed5",
   "metadata": {},
   "outputs": [
    {
     "data": {
      "image/png": "[encoded data removed]",
      "text/plain": [
       "<Figure size 432x288 with 1 Axes>"
      ]
     },
     "metadata": {
      "needs_background": "light"
     },
     "output_type": "display_data"
    }
   ],
   "source": [
    "# 실업률과 물가지수 산점도\n",
    "plt.scatter(df['unemployment_rate'], df['index_price'], color = 'green')\n",
    "plt.title('Index Price Vs Unemployment Rate')\n",
    "plt.xlabel('Unemployment Rate')\n",
    "plt.ylabel('Index Price')\n",
    "plt.grid(True)\n",
    "plt.show()"
   ]
  },
  {
   "cell_type": "code",
   "execution_count": 309,
   "id": "6cf7885e",
   "metadata": {},
   "outputs": [],
   "source": [
    "# 훈련 세트와 테스트 세트 준비\n",
    "from sklearn.model_selection import train_test_split\n",
    "import numpy as np\n",
    "\n",
    "train_input, test_input, train_target, test_target = train_test_split(\n",
    "df['unemployment_rate'], df['index_price'], random_state=42)\n",
    "\n",
    "train_input = np.array(train_input)\n",
    "test_input = np.array(test_input)\n",
    "\n",
    "# reshape(-1, 1): -1: 행의 크기를 자동 지정\n",
    "train_input = train_input.reshape(-1, 1)  # 2차원 배열로 변경\n",
    "test_input = test_input.reshape(-1, 1)  # 2차원 배열로 변경"
   ]
  },
  {
   "cell_type": "code",
   "execution_count": 310,
   "id": "3106a0cb",
   "metadata": {},
   "outputs": [
    {
     "name": "stdout",
     "output_type": "stream",
     "text": [
      "Unemployment Rate vs. Index Price\n",
      " coef_:[-611.41330166], intercept_:4586.05463182898\n"
     ]
    }
   ],
   "source": [
    "# 훈련 데이터를 이용한 직선 방정식 구하기\n",
    "from sklearn.linear_model import LinearRegression\n",
    "\n",
    "lr = LinearRegression()\n",
    "\n",
    "# 선형 회귀 모델 훈련\n",
    "lr.fit(train_input, train_target)\n",
    "\n",
    "# 기울기(a): codf_, 절편(bias): intercept_\n",
    "print('Unemployment Rate vs. Index Price\\n', f'coef_:{lr.coef_}, intercept_:{lr.intercept_}')"
   ]
  },
  {
   "cell_type": "code",
   "execution_count": 311,
   "id": "72d8fec7",
   "metadata": {},
   "outputs": [
    {
     "name": "stdout",
     "output_type": "stream",
     "text": [
      "train data score:  0.8748908875163574\n",
      "test data score:  0.707475113377226\n"
     ]
    }
   ],
   "source": [
    "print('train data score: ',\n",
    "     lr.score(train_input, train_target))\n",
    "print('test data score: ',\n",
    "     lr.score(test_input, test_target))"
   ]
  },
  {
   "cell_type": "code",
   "execution_count": 312,
   "id": "a2c9ba29",
   "metadata": {},
   "outputs": [
    {
     "data": {
      "image/png": "[encoded data removed]",
      "text/plain": [
       "<Figure size 432x288 with 1 Axes>"
      ]
     },
     "metadata": {
      "needs_background": "light"
     },
     "output_type": "display_data"
    }
   ],
   "source": [
    "# 기울기와 절편을 이용한 1차 방정식 그래프\n",
    "import matplotlib.pyplot as plt\n",
    "\n",
    "plt.scatter(train_input, train_target)\n",
    "\n",
    "# 1차 방정식 그래프 그리기\n",
    "# plot([x축 데이터:시작, 끝], [y축 데이터:시작, 끝])\n",
    "plt.plot([train_input.min(), train_input.max()], \n",
    "        [train_input.min()*lr.coef_ + lr.intercept_, train_input.max()*lr.coef_ + lr.intercept_],\n",
    "        color='red', linestyle='--')\n",
    "plt.title('Unemployment Rate vs. Index Price')\n",
    "plt.xlabel('Unemployment Rate')\n",
    "plt.ylabel('Index Price')\n",
    "plt.show()"
   ]
  },
  {
   "cell_type": "markdown",
   "id": "ce42deec",
   "metadata": {},
   "source": [
    "# 다항 회귀: 실업률과 물가지수 상관 관계 분석"
   ]
  },
  {
   "cell_type": "code",
   "execution_count": 313,
   "id": "f94d2027",
   "metadata": {},
   "outputs": [],
   "source": [
    "# 훈련 세트에 데이터 추가\n",
    "train_poly = np.column_stack((train_input**2, train_input))\n",
    "test_poly = np.column_stack((test_input**2, test_input))"
   ]
  },
  {
   "cell_type": "code",
   "execution_count": 314,
   "id": "c2bb2de7",
   "metadata": {},
   "outputs": [
    {
     "data": {
      "image/png": "[encoded data removed]",
      "text/plain": [
       "<Figure size 432x288 with 1 Axes>"
      ]
     },
     "metadata": {
      "needs_background": "light"
     },
     "output_type": "display_data"
    }
   ],
   "source": [
    "# 다항 회귀식을 이용한 그래프 그리기\n",
    "point = np.arange(train_input.min(), train_input.max(), 0.1)\n",
    "\n",
    "plt.scatter(train_input, train_target)\n",
    "\n",
    "plt.plot(point, -7.26428138*point**2 - 527.97932022*point + 4347.248197109266,\n",
    "        color='red', linestyle='--')\n",
    "\n",
    "plt.xlabel('Interest Rate')\n",
    "plt.ylabel('Index Price')\n",
    "plt.show()"
   ]
  },
  {
   "cell_type": "code",
   "execution_count": 315,
   "id": "72a9e02c",
   "metadata": {},
   "outputs": [
    {
     "name": "stdout",
     "output_type": "stream",
     "text": [
      "실업률과 물가지수 다항 회귀\n",
      "다항 회귀 coef_:[  -7.26428138 -527.97932022], intercept_:4347.248197109266\n"
     ]
    }
   ],
   "source": [
    "# 다항 회귀식 구하기\n",
    "lr = LinearRegression()\n",
    "lr.fit(train_poly, train_target)\n",
    "\n",
    "print('실업률과 물가지수 다항 회귀\\n'f'다항 회귀 coef_:{lr.coef_}, intercept_:{lr.intercept_}')"
   ]
  },
  {
   "cell_type": "code",
   "execution_count": 316,
   "id": "b00e364f",
   "metadata": {},
   "outputs": [
    {
     "name": "stdout",
     "output_type": "stream",
     "text": [
      "다항 회귀 train data score: 0.8748971920999006\n",
      "다항 회귀 train data score: 0.7057073065929076\n"
     ]
    }
   ],
   "source": [
    "print('다항 회귀 train data score:', lr.score(train_poly, train_target))\n",
    "print('다항 회귀 train data score:', lr.score(test_poly, test_target))"
   ]
  }
 ],
 "metadata": {
  "kernelspec": {
   "display_name": "Python 3 (ipykernel)",
   "language": "python",
   "name": "python3"
  },
  "language_info": {
   "codemirror_mode": {
    "name": "ipython",
    "version": 3
   },
   "file_extension": ".py",
   "mimetype": "text/x-python",
   "name": "python",
   "nbconvert_exporter": "python",
   "pygments_lexer": "ipython3",
   "version": "3.9.12"
  }
 },
 "nbformat": 4,
 "nbformat_minor": 5
}
