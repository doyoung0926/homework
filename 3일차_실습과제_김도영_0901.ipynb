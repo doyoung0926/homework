{
 "cells": [
  {
   "cell_type": "markdown",
   "id": "c50c2f6f",
   "metadata": {},
   "source": [
    "1. 회귀(Regression)\n",
    "- Dataset : NYC_taxi.csv\n",
    "- 거리에 따른 택시요금 예측\n",
    "- 조건) 뉴욕시 내에서 승차/하차의 경우만\n",
    "2. 분류(Classification)\n",
    "- Dataset : diabetes.csv\n",
    "- 당뇨 발생 여부\n",
    "- 조건) 당뇨병 발병 확률이 XX%입니다."
   ]
  },
  {
   "cell_type": "markdown",
   "id": "ccc99841",
   "metadata": {},
   "source": [
    "# 1. 회귀(Regression)"
   ]
  },
  {
   "cell_type": "markdown",
   "id": "ce136af5",
   "metadata": {},
   "source": [
    "### [1] 데이터 로딩"
   ]
  },
  {
   "cell_type": "code",
   "execution_count": 149,
   "id": "4ed949bb",
   "metadata": {},
   "outputs": [],
   "source": [
    "# 모듈 로딩\n",
    "import pandas as pd\n",
    "import matplotlib.pyplot as plt\n",
    "from sklearn.model_selection import train_test_split\n",
    "from sklearn.linear_model import LinearRegression\n",
    "import platform"
   ]
  },
  {
   "cell_type": "code",
   "execution_count": 150,
   "id": "2513cf62",
   "metadata": {},
   "outputs": [],
   "source": [
    "FILE = './data/NYC_taxi.csv'"
   ]
  },
  {
   "cell_type": "code",
   "execution_count": 151,
   "id": "242f6669",
   "metadata": {},
   "outputs": [],
   "source": [
    "# 데이터 로딩\n",
    "# nrows = 로딩 데이터 수\n",
    "df = pd.read_csv(FILE, nrows=50000, parse_dates=['pickup_datetime'])"
   ]
  },
  {
   "cell_type": "code",
   "execution_count": 152,
   "id": "b8ec084e",
   "metadata": {},
   "outputs": [
    {
     "name": "stdout",
     "output_type": "stream",
     "text": [
      "<class 'pandas.core.frame.DataFrame'>\n",
      "RangeIndex: 50000 entries, 0 to 49999\n",
      "Data columns (total 8 columns):\n",
      " #   Column             Non-Null Count  Dtype              \n",
      "---  ------             --------------  -----              \n",
      " 0   key                50000 non-null  object             \n",
      " 1   fare_amount        50000 non-null  float64            \n",
      " 2   pickup_datetime    50000 non-null  datetime64[ns, UTC]\n",
      " 3   pickup_longitude   50000 non-null  float64            \n",
      " 4   pickup_latitude    50000 non-null  float64            \n",
      " 5   dropoff_longitude  50000 non-null  float64            \n",
      " 6   dropoff_latitude   50000 non-null  float64            \n",
      " 7   passenger_count    50000 non-null  int64              \n",
      "dtypes: datetime64[ns, UTC](1), float64(5), int64(1), object(1)\n",
      "memory usage: 3.1+ MB\n"
     ]
    }
   ],
   "source": [
    "df.info()"
   ]
  },
  {
   "cell_type": "markdown",
   "id": "48f30cd8",
   "metadata": {},
   "source": [
    "### [2] 결측치 및 이상치 체크"
   ]
  },
  {
   "cell_type": "code",
   "execution_count": 153,
   "id": "d13eb238",
   "metadata": {},
   "outputs": [
    {
     "data": {
      "text/plain": [
       "key                  0\n",
       "fare_amount          0\n",
       "pickup_datetime      0\n",
       "pickup_longitude     0\n",
       "pickup_latitude      0\n",
       "dropoff_longitude    0\n",
       "dropoff_latitude     0\n",
       "passenger_count      0\n",
       "dtype: int64"
      ]
     },
     "execution_count": 153,
     "metadata": {},
     "output_type": "execute_result"
    }
   ],
   "source": [
    "df.isnull().sum()"
   ]
  },
  {
   "cell_type": "code",
   "execution_count": 154,
   "id": "9792aeac",
   "metadata": {
    "scrolled": true
   },
   "outputs": [
    {
     "data": {
      "text/html": [
       "<div>\n",
       "<style scoped>\n",
       "    .dataframe tbody tr th:only-of-type {\n",
       "        vertical-align: middle;\n",
       "    }\n",
       "\n",
       "    .dataframe tbody tr th {\n",
       "        vertical-align: top;\n",
       "    }\n",
       "\n",
       "    .dataframe thead th {\n",
       "        text-align: right;\n",
       "    }\n",
       "</style>\n",
       "<table border=\"1\" class=\"dataframe\">\n",
       "  <thead>\n",
       "    <tr style=\"text-align: right;\">\n",
       "      <th></th>\n",
       "      <th>fare_amount</th>\n",
       "      <th>pickup_longitude</th>\n",
       "      <th>pickup_latitude</th>\n",
       "      <th>dropoff_longitude</th>\n",
       "      <th>dropoff_latitude</th>\n",
       "      <th>passenger_count</th>\n",
       "    </tr>\n",
       "  </thead>\n",
       "  <tbody>\n",
       "    <tr>\n",
       "      <th>count</th>\n",
       "      <td>50000.000000</td>\n",
       "      <td>50000.000000</td>\n",
       "      <td>50000.000000</td>\n",
       "      <td>50000.000000</td>\n",
       "      <td>50000.000000</td>\n",
       "      <td>50000.000000</td>\n",
       "    </tr>\n",
       "    <tr>\n",
       "      <th>mean</th>\n",
       "      <td>11.364171</td>\n",
       "      <td>-72.509756</td>\n",
       "      <td>39.933759</td>\n",
       "      <td>-72.504616</td>\n",
       "      <td>39.926251</td>\n",
       "      <td>1.667840</td>\n",
       "    </tr>\n",
       "    <tr>\n",
       "      <th>std</th>\n",
       "      <td>9.685557</td>\n",
       "      <td>10.393860</td>\n",
       "      <td>6.224857</td>\n",
       "      <td>10.407570</td>\n",
       "      <td>6.014737</td>\n",
       "      <td>1.289195</td>\n",
       "    </tr>\n",
       "    <tr>\n",
       "      <th>min</th>\n",
       "      <td>-5.000000</td>\n",
       "      <td>-75.423848</td>\n",
       "      <td>-74.006893</td>\n",
       "      <td>-84.654241</td>\n",
       "      <td>-74.006377</td>\n",
       "      <td>0.000000</td>\n",
       "    </tr>\n",
       "    <tr>\n",
       "      <th>25%</th>\n",
       "      <td>6.000000</td>\n",
       "      <td>-73.992062</td>\n",
       "      <td>40.734880</td>\n",
       "      <td>-73.991152</td>\n",
       "      <td>40.734372</td>\n",
       "      <td>1.000000</td>\n",
       "    </tr>\n",
       "    <tr>\n",
       "      <th>50%</th>\n",
       "      <td>8.500000</td>\n",
       "      <td>-73.981840</td>\n",
       "      <td>40.752678</td>\n",
       "      <td>-73.980082</td>\n",
       "      <td>40.753372</td>\n",
       "      <td>1.000000</td>\n",
       "    </tr>\n",
       "    <tr>\n",
       "      <th>75%</th>\n",
       "      <td>12.500000</td>\n",
       "      <td>-73.967148</td>\n",
       "      <td>40.767360</td>\n",
       "      <td>-73.963584</td>\n",
       "      <td>40.768167</td>\n",
       "      <td>2.000000</td>\n",
       "    </tr>\n",
       "    <tr>\n",
       "      <th>max</th>\n",
       "      <td>200.000000</td>\n",
       "      <td>40.783472</td>\n",
       "      <td>401.083332</td>\n",
       "      <td>40.851027</td>\n",
       "      <td>43.415190</td>\n",
       "      <td>6.000000</td>\n",
       "    </tr>\n",
       "  </tbody>\n",
       "</table>\n",
       "</div>"
      ],
      "text/plain": [
       "        fare_amount  pickup_longitude  pickup_latitude  dropoff_longitude  \\\n",
       "count  50000.000000      50000.000000     50000.000000       50000.000000   \n",
       "mean      11.364171        -72.509756        39.933759         -72.504616   \n",
       "std        9.685557         10.393860         6.224857          10.407570   \n",
       "min       -5.000000        -75.423848       -74.006893         -84.654241   \n",
       "25%        6.000000        -73.992062        40.734880         -73.991152   \n",
       "50%        8.500000        -73.981840        40.752678         -73.980082   \n",
       "75%       12.500000        -73.967148        40.767360         -73.963584   \n",
       "max      200.000000         40.783472       401.083332          40.851027   \n",
       "\n",
       "       dropoff_latitude  passenger_count  \n",
       "count      50000.000000     50000.000000  \n",
       "mean          39.926251         1.667840  \n",
       "std            6.014737         1.289195  \n",
       "min          -74.006377         0.000000  \n",
       "25%           40.734372         1.000000  \n",
       "50%           40.753372         1.000000  \n",
       "75%           40.768167         2.000000  \n",
       "max           43.415190         6.000000  "
      ]
     },
     "execution_count": 154,
     "metadata": {},
     "output_type": "execute_result"
    }
   ],
   "source": [
    "df.describe()"
   ]
  },
  {
   "cell_type": "code",
   "execution_count": 155,
   "id": "7301f771",
   "metadata": {},
   "outputs": [],
   "source": [
    "# fare_amount 컬럼 음수 제거\n",
    "# passenger_count 컬럼 0값 <- 평균으로 채우기\n",
    "df = df[df['fare_amount'] >= 0]\n",
    "df.passenger_count[df['passenger_count'] == 0] = df.passenger_count.mean()"
   ]
  },
  {
   "cell_type": "markdown",
   "id": "82ba4a61",
   "metadata": {},
   "source": [
    "### 특성 새롭게 생성 => 거리 Feature\n",
    "---\n",
    "- 공식: (x2-x1)^2 + (y2-y1)^2 계산 결과의 루트"
   ]
  },
  {
   "cell_type": "code",
   "execution_count": 156,
   "id": "9df86f70",
   "metadata": {},
   "outputs": [],
   "source": [
    "distance = ((df.pickup_latitude - df.dropoff_latitude)**2 + (df.pickup_longitude - df.dropoff_longitude)**2)**1/2\n",
    "\n",
    "df['distance'] = distance"
   ]
  },
  {
   "cell_type": "code",
   "execution_count": 157,
   "id": "b9652bcd",
   "metadata": {},
   "outputs": [
    {
     "name": "stdout",
     "output_type": "stream",
     "text": [
      "<class 'pandas.core.frame.DataFrame'>\n",
      "Int64Index: 48869 entries, 0 to 49999\n",
      "Data columns (total 9 columns):\n",
      " #   Column             Non-Null Count  Dtype              \n",
      "---  ------             --------------  -----              \n",
      " 0   key                48869 non-null  object             \n",
      " 1   fare_amount        48869 non-null  float64            \n",
      " 2   pickup_datetime    48869 non-null  datetime64[ns, UTC]\n",
      " 3   pickup_longitude   48869 non-null  float64            \n",
      " 4   pickup_latitude    48869 non-null  float64            \n",
      " 5   dropoff_longitude  48869 non-null  float64            \n",
      " 6   dropoff_latitude   48869 non-null  float64            \n",
      " 7   passenger_count    48869 non-null  float64            \n",
      " 8   distance           48869 non-null  float64            \n",
      "dtypes: datetime64[ns, UTC](1), float64(7), object(1)\n",
      "memory usage: 3.7+ MB\n"
     ]
    }
   ],
   "source": [
    "# 뉴욕시 내에서 승차/하차의 경우\n",
    "p_long = (df['pickup_longitude'] >= -74.27) & (df['pickup_longitude'] <=-73.68)\n",
    "d_long = (df['dropoff_longitude'] >= -74.27) & (df['dropoff_longitude'] <=-73.68)\n",
    "p_lat = (df['pickup_latitude'] >= 40.49) & (df['pickup_latitude'] <= 40.92)\n",
    "d_lat = (df['dropoff_latitude'] >= 40.49) & (df['dropoff_latitude'] <= 40.92)\n",
    "\n",
    "ny_df = df[p_long & d_long & p_lat & d_lat]\n",
    "ny_df.info()"
   ]
  },
  {
   "cell_type": "code",
   "execution_count": 158,
   "id": "40e0961c",
   "metadata": {},
   "outputs": [
    {
     "data": {
      "text/html": [
       "<div>\n",
       "<style scoped>\n",
       "    .dataframe tbody tr th:only-of-type {\n",
       "        vertical-align: middle;\n",
       "    }\n",
       "\n",
       "    .dataframe tbody tr th {\n",
       "        vertical-align: top;\n",
       "    }\n",
       "\n",
       "    .dataframe thead th {\n",
       "        text-align: right;\n",
       "    }\n",
       "</style>\n",
       "<table border=\"1\" class=\"dataframe\">\n",
       "  <thead>\n",
       "    <tr style=\"text-align: right;\">\n",
       "      <th></th>\n",
       "      <th>fare_amount</th>\n",
       "      <th>pickup_longitude</th>\n",
       "      <th>pickup_latitude</th>\n",
       "      <th>dropoff_longitude</th>\n",
       "      <th>dropoff_latitude</th>\n",
       "      <th>passenger_count</th>\n",
       "      <th>distance</th>\n",
       "    </tr>\n",
       "  </thead>\n",
       "  <tbody>\n",
       "    <tr>\n",
       "      <th>count</th>\n",
       "      <td>48869.000000</td>\n",
       "      <td>48869.000000</td>\n",
       "      <td>48869.000000</td>\n",
       "      <td>48869.000000</td>\n",
       "      <td>48869.000000</td>\n",
       "      <td>48869.000000</td>\n",
       "      <td>48869.000000</td>\n",
       "    </tr>\n",
       "    <tr>\n",
       "      <th>mean</th>\n",
       "      <td>11.308938</td>\n",
       "      <td>-73.975556</td>\n",
       "      <td>40.750873</td>\n",
       "      <td>-73.974352</td>\n",
       "      <td>40.751368</td>\n",
       "      <td>1.674951</td>\n",
       "      <td>0.001307</td>\n",
       "    </tr>\n",
       "    <tr>\n",
       "      <th>std</th>\n",
       "      <td>9.379661</td>\n",
       "      <td>0.034286</td>\n",
       "      <td>0.026945</td>\n",
       "      <td>0.034175</td>\n",
       "      <td>0.030713</td>\n",
       "      <td>1.287086</td>\n",
       "      <td>0.003790</td>\n",
       "    </tr>\n",
       "    <tr>\n",
       "      <th>min</th>\n",
       "      <td>0.000000</td>\n",
       "      <td>-74.248263</td>\n",
       "      <td>40.522263</td>\n",
       "      <td>-74.241953</td>\n",
       "      <td>40.529306</td>\n",
       "      <td>1.000000</td>\n",
       "      <td>0.000000</td>\n",
       "    </tr>\n",
       "    <tr>\n",
       "      <th>25%</th>\n",
       "      <td>6.000000</td>\n",
       "      <td>-73.992308</td>\n",
       "      <td>40.736524</td>\n",
       "      <td>-73.991335</td>\n",
       "      <td>40.735916</td>\n",
       "      <td>1.000000</td>\n",
       "      <td>0.000083</td>\n",
       "    </tr>\n",
       "    <tr>\n",
       "      <th>50%</th>\n",
       "      <td>8.500000</td>\n",
       "      <td>-73.982131</td>\n",
       "      <td>40.753417</td>\n",
       "      <td>-73.980502</td>\n",
       "      <td>40.754093</td>\n",
       "      <td>1.000000</td>\n",
       "      <td>0.000238</td>\n",
       "    </tr>\n",
       "    <tr>\n",
       "      <th>75%</th>\n",
       "      <td>12.500000</td>\n",
       "      <td>-73.968447</td>\n",
       "      <td>40.767719</td>\n",
       "      <td>-73.965398</td>\n",
       "      <td>40.768445</td>\n",
       "      <td>2.000000</td>\n",
       "      <td>0.000760</td>\n",
       "    </tr>\n",
       "    <tr>\n",
       "      <th>max</th>\n",
       "      <td>165.000000</td>\n",
       "      <td>-73.688170</td>\n",
       "      <td>40.918290</td>\n",
       "      <td>-73.699185</td>\n",
       "      <td>40.911983</td>\n",
       "      <td>6.000000</td>\n",
       "      <td>0.079575</td>\n",
       "    </tr>\n",
       "  </tbody>\n",
       "</table>\n",
       "</div>"
      ],
      "text/plain": [
       "        fare_amount  pickup_longitude  pickup_latitude  dropoff_longitude  \\\n",
       "count  48869.000000      48869.000000     48869.000000       48869.000000   \n",
       "mean      11.308938        -73.975556        40.750873         -73.974352   \n",
       "std        9.379661          0.034286         0.026945           0.034175   \n",
       "min        0.000000        -74.248263        40.522263         -74.241953   \n",
       "25%        6.000000        -73.992308        40.736524         -73.991335   \n",
       "50%        8.500000        -73.982131        40.753417         -73.980502   \n",
       "75%       12.500000        -73.968447        40.767719         -73.965398   \n",
       "max      165.000000        -73.688170        40.918290         -73.699185   \n",
       "\n",
       "       dropoff_latitude  passenger_count      distance  \n",
       "count      48869.000000     48869.000000  48869.000000  \n",
       "mean          40.751368         1.674951      0.001307  \n",
       "std            0.030713         1.287086      0.003790  \n",
       "min           40.529306         1.000000      0.000000  \n",
       "25%           40.735916         1.000000      0.000083  \n",
       "50%           40.754093         1.000000      0.000238  \n",
       "75%           40.768445         2.000000      0.000760  \n",
       "max           40.911983         6.000000      0.079575  "
      ]
     },
     "execution_count": 158,
     "metadata": {},
     "output_type": "execute_result"
    }
   ],
   "source": [
    "ny_df.describe()"
   ]
  },
  {
   "cell_type": "code",
   "execution_count": 159,
   "id": "216a066d",
   "metadata": {
    "collapsed": true
   },
   "outputs": [
    {
     "name": "stderr",
     "output_type": "stream",
     "text": [
      "C:\\Users\\User\\AppData\\Local\\Temp\\ipykernel_12704\\2821520725.py:3: SettingWithCopyWarning: \n",
      "A value is trying to be set on a copy of a slice from a DataFrame\n",
      "\n",
      "See the caveats in the documentation: https://pandas.pydata.org/pandas-docs/stable/user_guide/indexing.html#returning-a-view-versus-a-copy\n",
      "  ny_df.distance[ny_df['distance'] == 0] = ny_df.distance.mean()\n",
      "C:\\Users\\User\\AppData\\Local\\Temp\\ipykernel_12704\\2821520725.py:3: SettingWithCopyWarning: \n",
      "A value is trying to be set on a copy of a slice from a DataFrame\n",
      "\n",
      "See the caveats in the documentation: https://pandas.pydata.org/pandas-docs/stable/user_guide/indexing.html#returning-a-view-versus-a-copy\n",
      "  ny_df.distance[ny_df['distance'] == 0] = ny_df.distance.mean()\n"
     ]
    }
   ],
   "source": [
    "# 결측치 및 이상치 체크\n",
    "# distance 컬럼 0값 <- 평균으로 채우기\n",
    "ny_df.distance[ny_df['distance'] == 0] = ny_df.distance.mean()"
   ]
  },
  {
   "cell_type": "code",
   "execution_count": 160,
   "id": "5c3404b2",
   "metadata": {},
   "outputs": [
    {
     "data": {
      "text/html": [
       "<div>\n",
       "<style scoped>\n",
       "    .dataframe tbody tr th:only-of-type {\n",
       "        vertical-align: middle;\n",
       "    }\n",
       "\n",
       "    .dataframe tbody tr th {\n",
       "        vertical-align: top;\n",
       "    }\n",
       "\n",
       "    .dataframe thead th {\n",
       "        text-align: right;\n",
       "    }\n",
       "</style>\n",
       "<table border=\"1\" class=\"dataframe\">\n",
       "  <thead>\n",
       "    <tr style=\"text-align: right;\">\n",
       "      <th></th>\n",
       "      <th>fare_amount</th>\n",
       "      <th>pickup_longitude</th>\n",
       "      <th>pickup_latitude</th>\n",
       "      <th>dropoff_longitude</th>\n",
       "      <th>dropoff_latitude</th>\n",
       "      <th>passenger_count</th>\n",
       "      <th>distance</th>\n",
       "    </tr>\n",
       "  </thead>\n",
       "  <tbody>\n",
       "    <tr>\n",
       "      <th>count</th>\n",
       "      <td>48869.000000</td>\n",
       "      <td>48869.000000</td>\n",
       "      <td>48869.000000</td>\n",
       "      <td>48869.000000</td>\n",
       "      <td>48869.000000</td>\n",
       "      <td>48869.000000</td>\n",
       "      <td>4.886900e+04</td>\n",
       "    </tr>\n",
       "    <tr>\n",
       "      <th>mean</th>\n",
       "      <td>11.308938</td>\n",
       "      <td>-73.975556</td>\n",
       "      <td>40.750873</td>\n",
       "      <td>-73.974352</td>\n",
       "      <td>40.751368</td>\n",
       "      <td>1.674951</td>\n",
       "      <td>1.321309e-03</td>\n",
       "    </tr>\n",
       "    <tr>\n",
       "      <th>std</th>\n",
       "      <td>9.379661</td>\n",
       "      <td>0.034286</td>\n",
       "      <td>0.026945</td>\n",
       "      <td>0.034175</td>\n",
       "      <td>0.030713</td>\n",
       "      <td>1.287086</td>\n",
       "      <td>3.787918e-03</td>\n",
       "    </tr>\n",
       "    <tr>\n",
       "      <th>min</th>\n",
       "      <td>0.000000</td>\n",
       "      <td>-74.248263</td>\n",
       "      <td>40.522263</td>\n",
       "      <td>-74.241953</td>\n",
       "      <td>40.529306</td>\n",
       "      <td>1.000000</td>\n",
       "      <td>5.000000e-13</td>\n",
       "    </tr>\n",
       "    <tr>\n",
       "      <th>25%</th>\n",
       "      <td>6.000000</td>\n",
       "      <td>-73.992308</td>\n",
       "      <td>40.736524</td>\n",
       "      <td>-73.991335</td>\n",
       "      <td>40.735916</td>\n",
       "      <td>1.000000</td>\n",
       "      <td>8.745402e-05</td>\n",
       "    </tr>\n",
       "    <tr>\n",
       "      <th>50%</th>\n",
       "      <td>8.500000</td>\n",
       "      <td>-73.982131</td>\n",
       "      <td>40.753417</td>\n",
       "      <td>-73.980502</td>\n",
       "      <td>40.754093</td>\n",
       "      <td>1.000000</td>\n",
       "      <td>2.492444e-04</td>\n",
       "    </tr>\n",
       "    <tr>\n",
       "      <th>75%</th>\n",
       "      <td>12.500000</td>\n",
       "      <td>-73.968447</td>\n",
       "      <td>40.767719</td>\n",
       "      <td>-73.965398</td>\n",
       "      <td>40.768445</td>\n",
       "      <td>2.000000</td>\n",
       "      <td>8.116211e-04</td>\n",
       "    </tr>\n",
       "    <tr>\n",
       "      <th>max</th>\n",
       "      <td>165.000000</td>\n",
       "      <td>-73.688170</td>\n",
       "      <td>40.918290</td>\n",
       "      <td>-73.699185</td>\n",
       "      <td>40.911983</td>\n",
       "      <td>6.000000</td>\n",
       "      <td>7.957466e-02</td>\n",
       "    </tr>\n",
       "  </tbody>\n",
       "</table>\n",
       "</div>"
      ],
      "text/plain": [
       "        fare_amount  pickup_longitude  pickup_latitude  dropoff_longitude  \\\n",
       "count  48869.000000      48869.000000     48869.000000       48869.000000   \n",
       "mean      11.308938        -73.975556        40.750873         -73.974352   \n",
       "std        9.379661          0.034286         0.026945           0.034175   \n",
       "min        0.000000        -74.248263        40.522263         -74.241953   \n",
       "25%        6.000000        -73.992308        40.736524         -73.991335   \n",
       "50%        8.500000        -73.982131        40.753417         -73.980502   \n",
       "75%       12.500000        -73.968447        40.767719         -73.965398   \n",
       "max      165.000000        -73.688170        40.918290         -73.699185   \n",
       "\n",
       "       dropoff_latitude  passenger_count      distance  \n",
       "count      48869.000000     48869.000000  4.886900e+04  \n",
       "mean          40.751368         1.674951  1.321309e-03  \n",
       "std            0.030713         1.287086  3.787918e-03  \n",
       "min           40.529306         1.000000  5.000000e-13  \n",
       "25%           40.735916         1.000000  8.745402e-05  \n",
       "50%           40.754093         1.000000  2.492444e-04  \n",
       "75%           40.768445         2.000000  8.116211e-04  \n",
       "max           40.911983         6.000000  7.957466e-02  "
      ]
     },
     "execution_count": 160,
     "metadata": {},
     "output_type": "execute_result"
    }
   ],
   "source": [
    "ny_df.describe()"
   ]
  },
  {
   "cell_type": "markdown",
   "id": "17c4e98e",
   "metadata": {},
   "source": [
    "### [3] 분포 분석 => EDA => 시각화"
   ]
  },
  {
   "cell_type": "code",
   "execution_count": 161,
   "id": "8a4adf4e",
   "metadata": {
    "scrolled": true
   },
   "outputs": [
    {
     "data": {
      "image/png": "[encoded data removed]",
      "text/plain": [
       "<Figure size 864x504 with 1 Axes>"
      ]
     },
     "metadata": {
      "needs_background": "light"
     },
     "output_type": "display_data"
    }
   ],
   "source": [
    "plt.figure(figsize=(12, 7))\n",
    "plt.scatter(ny_df['distance'], ny_df['fare_amount'])\n",
    "plt.xlabel('distance')\n",
    "plt.ylabel('fare_amount')\n",
    "plt.grid(True)\n",
    "plt.show()"
   ]
  },
  {
   "cell_type": "code",
   "execution_count": 162,
   "id": "1ed9f4c6",
   "metadata": {},
   "outputs": [],
   "source": [
    "data = ny_df['distance'].to_numpy() # Serise를 Numpy의 array로 변환\n",
    "target = ny_df['fare_amount'].to_numpy()\n",
    "\n",
    "# data = ny_df['distance']\n",
    "# target = ny_df['fare_amount']\n",
    "\n",
    "data = data.reshape(-1,1) # 2차원 배열로 변경\n",
    "target = target.reshape(-1,1) # 2차원 배열로 변경"
   ]
  },
  {
   "cell_type": "code",
   "execution_count": 163,
   "id": "4106ae5f",
   "metadata": {},
   "outputs": [],
   "source": [
    "# 학습용, 테스트용 데이터 분리\n",
    "train_X, test_X, train_y, test_y = train_test_split(data, \n",
    "                                                    target,\n",
    "                                                    test_size=0.2)"
   ]
  },
  {
   "cell_type": "code",
   "execution_count": 164,
   "id": "de100521",
   "metadata": {},
   "outputs": [
    {
     "name": "stdout",
     "output_type": "stream",
     "text": [
      "(39095, 1) (9774, 1)\n",
      "(39095, 1) (9774, 1)\n"
     ]
    }
   ],
   "source": [
    "print(train_X.shape, test_X.shape)\n",
    "print(train_y.shape, test_y.shape)"
   ]
  },
  {
   "cell_type": "code",
   "execution_count": 165,
   "id": "8699f45a",
   "metadata": {},
   "outputs": [],
   "source": [
    "# 모델 객체 생성\n",
    "model = LinearRegression()"
   ]
  },
  {
   "cell_type": "code",
   "execution_count": 166,
   "id": "86a995b0",
   "metadata": {},
   "outputs": [
    {
     "data": {
      "text/plain": [
       "LinearRegression()"
      ]
     },
     "execution_count": 166,
     "metadata": {},
     "output_type": "execute_result"
    }
   ],
   "source": [
    "# 학습 ==> 트레이닝 데이터 사용\n",
    "# fit()메서드 => 2차원 형태 데이터\n",
    "model.fit(train_X, train_y)"
   ]
  },
  {
   "cell_type": "code",
   "execution_count": 167,
   "id": "7ffd3d4c",
   "metadata": {},
   "outputs": [
    {
     "name": "stdout",
     "output_type": "stream",
     "text": [
      "w :  [[1996.94650951]] b :  [8.6815636]\n"
     ]
    }
   ],
   "source": [
    "# 모델 파라미터 => w 가중치, b 절편\n",
    "print('w : ', model.coef_, 'b : ', model.intercept_)"
   ]
  },
  {
   "cell_type": "code",
   "execution_count": 168,
   "id": "b2a65168",
   "metadata": {},
   "outputs": [
    {
     "data": {
      "image/png": "[encoded data removed]",
      "text/plain": [
       "<Figure size 864x504 with 1 Axes>"
      ]
     },
     "metadata": {
      "needs_background": "light"
     },
     "output_type": "display_data"
    }
   ],
   "source": [
    "# 기울기와 절편을 이용한 1차 방정식 그래프\n",
    "if platform.system() == 'Windows':\n",
    "    plt.rc('font', family = 'Malgun Gothic')\n",
    "elif platform.system() == 'Darwin': # MacOS\n",
    "    plt.rc('font', family = 'AppleGothic')\n",
    "else:\n",
    "    plt.rc('font', family = 'AppleGothic')\n",
    "\n",
    "plt.figure(figsize=(12,7))\n",
    "plt.scatter(train_X, train_y)\n",
    "\n",
    "# 1차 방정식 그래프 그리기\n",
    "plt.plot(train_X,\n",
    "        train_X*model.coef_ + model.intercept_,\n",
    "        color = 'red', linestyle = '--')\n",
    "plt.title('거리에 따른 택시요금 예측')\n",
    "plt.xlabel('distance')\n",
    "plt.ylabel('fare_amount')\n",
    "plt.grid(True)\n",
    "plt.show()"
   ]
  },
  {
   "cell_type": "code",
   "execution_count": 169,
   "id": "47778580",
   "metadata": {},
   "outputs": [
    {
     "name": "stdout",
     "output_type": "stream",
     "text": [
      "train data score:  0.649960980962552\n",
      "test data score:  0.6758402122224352\n"
     ]
    }
   ],
   "source": [
    "print('train data score: ',\n",
    "     model.score(train_X, train_y))\n",
    "print('test data score: ',\n",
    "     model.score(test_X, test_y))"
   ]
  },
  {
   "cell_type": "markdown",
   "id": "6d6c9343",
   "metadata": {},
   "source": [
    "# 2. 분류(Classification)"
   ]
  },
  {
   "cell_type": "markdown",
   "id": "b2f44ac9",
   "metadata": {},
   "source": [
    "### [1] 데이터 로딩 및 확인"
   ]
  },
  {
   "cell_type": "code",
   "execution_count": 170,
   "id": "bda89443",
   "metadata": {},
   "outputs": [],
   "source": [
    "# 모듈 로딩\n",
    "import pandas as pd\n",
    "import matplotlib.pyplot as plt\n",
    "from sklearn.model_selection import train_test_split\n",
    "from sklearn.linear_model import LogisticRegression\n",
    "import numpy as np"
   ]
  },
  {
   "cell_type": "code",
   "execution_count": 171,
   "id": "28e6f721",
   "metadata": {},
   "outputs": [
    {
     "name": "stdout",
     "output_type": "stream",
     "text": [
      "<class 'pandas.core.frame.DataFrame'>\n",
      "RangeIndex: 768 entries, 0 to 767\n",
      "Data columns (total 9 columns):\n",
      " #   Column                    Non-Null Count  Dtype  \n",
      "---  ------                    --------------  -----  \n",
      " 0   Pregnancies               768 non-null    int64  \n",
      " 1   Glucose                   768 non-null    int64  \n",
      " 2   BloodPressure             768 non-null    int64  \n",
      " 3   SkinThickness             768 non-null    int64  \n",
      " 4   Insulin                   768 non-null    int64  \n",
      " 5   BMI                       768 non-null    float64\n",
      " 6   DiabetesPedigreeFunction  768 non-null    float64\n",
      " 7   Age                       768 non-null    int64  \n",
      " 8   Outcome                   768 non-null    int64  \n",
      "dtypes: float64(2), int64(7)\n",
      "memory usage: 54.1 KB\n"
     ]
    }
   ],
   "source": [
    "# 데이터 로딩\n",
    "FILE = './data/diabetes.csv'\n",
    "\n",
    "df = pd.read_csv(FILE)\n",
    "df.info()"
   ]
  },
  {
   "cell_type": "code",
   "execution_count": 172,
   "id": "8c32854d",
   "metadata": {},
   "outputs": [
    {
     "data": {
      "text/plain": [
       "Pregnancies                 0\n",
       "Glucose                     0\n",
       "BloodPressure               0\n",
       "SkinThickness               0\n",
       "Insulin                     0\n",
       "BMI                         0\n",
       "DiabetesPedigreeFunction    0\n",
       "Age                         0\n",
       "Outcome                     0\n",
       "dtype: int64"
      ]
     },
     "execution_count": 172,
     "metadata": {},
     "output_type": "execute_result"
    }
   ],
   "source": [
    "# 결측치 개수 파악\n",
    "df.isnull().sum()"
   ]
  },
  {
   "cell_type": "code",
   "execution_count": 173,
   "id": "cf7285b8",
   "metadata": {},
   "outputs": [
    {
     "data": {
      "text/html": [
       "<div>\n",
       "<style scoped>\n",
       "    .dataframe tbody tr th:only-of-type {\n",
       "        vertical-align: middle;\n",
       "    }\n",
       "\n",
       "    .dataframe tbody tr th {\n",
       "        vertical-align: top;\n",
       "    }\n",
       "\n",
       "    .dataframe thead th {\n",
       "        text-align: right;\n",
       "    }\n",
       "</style>\n",
       "<table border=\"1\" class=\"dataframe\">\n",
       "  <thead>\n",
       "    <tr style=\"text-align: right;\">\n",
       "      <th></th>\n",
       "      <th>Pregnancies</th>\n",
       "      <th>Glucose</th>\n",
       "      <th>BloodPressure</th>\n",
       "      <th>SkinThickness</th>\n",
       "      <th>Insulin</th>\n",
       "      <th>BMI</th>\n",
       "      <th>DiabetesPedigreeFunction</th>\n",
       "      <th>Age</th>\n",
       "      <th>Outcome</th>\n",
       "    </tr>\n",
       "  </thead>\n",
       "  <tbody>\n",
       "    <tr>\n",
       "      <th>count</th>\n",
       "      <td>768.000000</td>\n",
       "      <td>768.000000</td>\n",
       "      <td>768.000000</td>\n",
       "      <td>768.000000</td>\n",
       "      <td>768.000000</td>\n",
       "      <td>768.000000</td>\n",
       "      <td>768.000000</td>\n",
       "      <td>768.000000</td>\n",
       "      <td>768.000000</td>\n",
       "    </tr>\n",
       "    <tr>\n",
       "      <th>mean</th>\n",
       "      <td>3.845052</td>\n",
       "      <td>120.894531</td>\n",
       "      <td>69.105469</td>\n",
       "      <td>20.536458</td>\n",
       "      <td>79.799479</td>\n",
       "      <td>31.992578</td>\n",
       "      <td>0.471876</td>\n",
       "      <td>33.240885</td>\n",
       "      <td>0.348958</td>\n",
       "    </tr>\n",
       "    <tr>\n",
       "      <th>std</th>\n",
       "      <td>3.369578</td>\n",
       "      <td>31.972618</td>\n",
       "      <td>19.355807</td>\n",
       "      <td>15.952218</td>\n",
       "      <td>115.244002</td>\n",
       "      <td>7.884160</td>\n",
       "      <td>0.331329</td>\n",
       "      <td>11.760232</td>\n",
       "      <td>0.476951</td>\n",
       "    </tr>\n",
       "    <tr>\n",
       "      <th>min</th>\n",
       "      <td>0.000000</td>\n",
       "      <td>0.000000</td>\n",
       "      <td>0.000000</td>\n",
       "      <td>0.000000</td>\n",
       "      <td>0.000000</td>\n",
       "      <td>0.000000</td>\n",
       "      <td>0.078000</td>\n",
       "      <td>21.000000</td>\n",
       "      <td>0.000000</td>\n",
       "    </tr>\n",
       "    <tr>\n",
       "      <th>25%</th>\n",
       "      <td>1.000000</td>\n",
       "      <td>99.000000</td>\n",
       "      <td>62.000000</td>\n",
       "      <td>0.000000</td>\n",
       "      <td>0.000000</td>\n",
       "      <td>27.300000</td>\n",
       "      <td>0.243750</td>\n",
       "      <td>24.000000</td>\n",
       "      <td>0.000000</td>\n",
       "    </tr>\n",
       "    <tr>\n",
       "      <th>50%</th>\n",
       "      <td>3.000000</td>\n",
       "      <td>117.000000</td>\n",
       "      <td>72.000000</td>\n",
       "      <td>23.000000</td>\n",
       "      <td>30.500000</td>\n",
       "      <td>32.000000</td>\n",
       "      <td>0.372500</td>\n",
       "      <td>29.000000</td>\n",
       "      <td>0.000000</td>\n",
       "    </tr>\n",
       "    <tr>\n",
       "      <th>75%</th>\n",
       "      <td>6.000000</td>\n",
       "      <td>140.250000</td>\n",
       "      <td>80.000000</td>\n",
       "      <td>32.000000</td>\n",
       "      <td>127.250000</td>\n",
       "      <td>36.600000</td>\n",
       "      <td>0.626250</td>\n",
       "      <td>41.000000</td>\n",
       "      <td>1.000000</td>\n",
       "    </tr>\n",
       "    <tr>\n",
       "      <th>max</th>\n",
       "      <td>17.000000</td>\n",
       "      <td>199.000000</td>\n",
       "      <td>122.000000</td>\n",
       "      <td>99.000000</td>\n",
       "      <td>846.000000</td>\n",
       "      <td>67.100000</td>\n",
       "      <td>2.420000</td>\n",
       "      <td>81.000000</td>\n",
       "      <td>1.000000</td>\n",
       "    </tr>\n",
       "  </tbody>\n",
       "</table>\n",
       "</div>"
      ],
      "text/plain": [
       "       Pregnancies     Glucose  BloodPressure  SkinThickness     Insulin  \\\n",
       "count   768.000000  768.000000     768.000000     768.000000  768.000000   \n",
       "mean      3.845052  120.894531      69.105469      20.536458   79.799479   \n",
       "std       3.369578   31.972618      19.355807      15.952218  115.244002   \n",
       "min       0.000000    0.000000       0.000000       0.000000    0.000000   \n",
       "25%       1.000000   99.000000      62.000000       0.000000    0.000000   \n",
       "50%       3.000000  117.000000      72.000000      23.000000   30.500000   \n",
       "75%       6.000000  140.250000      80.000000      32.000000  127.250000   \n",
       "max      17.000000  199.000000     122.000000      99.000000  846.000000   \n",
       "\n",
       "              BMI  DiabetesPedigreeFunction         Age     Outcome  \n",
       "count  768.000000                768.000000  768.000000  768.000000  \n",
       "mean    31.992578                  0.471876   33.240885    0.348958  \n",
       "std      7.884160                  0.331329   11.760232    0.476951  \n",
       "min      0.000000                  0.078000   21.000000    0.000000  \n",
       "25%     27.300000                  0.243750   24.000000    0.000000  \n",
       "50%     32.000000                  0.372500   29.000000    0.000000  \n",
       "75%     36.600000                  0.626250   41.000000    1.000000  \n",
       "max     67.100000                  2.420000   81.000000    1.000000  "
      ]
     },
     "execution_count": 173,
     "metadata": {},
     "output_type": "execute_result"
    }
   ],
   "source": [
    "# 기술 통계 정보 확인\n",
    "df.describe()"
   ]
  },
  {
   "cell_type": "code",
   "execution_count": 174,
   "id": "9f06a7e4",
   "metadata": {
    "collapsed": true
   },
   "outputs": [
    {
     "name": "stderr",
     "output_type": "stream",
     "text": [
      "C:\\Users\\User\\AppData\\Local\\Temp\\ipykernel_12704\\333754670.py:2: SettingWithCopyWarning: \n",
      "A value is trying to be set on a copy of a slice from a DataFrame\n",
      "\n",
      "See the caveats in the documentation: https://pandas.pydata.org/pandas-docs/stable/user_guide/indexing.html#returning-a-view-versus-a-copy\n",
      "  df.Glucose[df['Glucose']==0] = df.Glucose[df['Glucose']!=0].mean()\n",
      "C:\\Users\\User\\AppData\\Local\\Temp\\ipykernel_12704\\333754670.py:3: SettingWithCopyWarning: \n",
      "A value is trying to be set on a copy of a slice from a DataFrame\n",
      "\n",
      "See the caveats in the documentation: https://pandas.pydata.org/pandas-docs/stable/user_guide/indexing.html#returning-a-view-versus-a-copy\n",
      "  df.BloodPressure[df['BloodPressure']==0] = df.BloodPressure[df['BloodPressure']!=0].mean()\n",
      "C:\\Users\\User\\AppData\\Local\\Temp\\ipykernel_12704\\333754670.py:4: SettingWithCopyWarning: \n",
      "A value is trying to be set on a copy of a slice from a DataFrame\n",
      "\n",
      "See the caveats in the documentation: https://pandas.pydata.org/pandas-docs/stable/user_guide/indexing.html#returning-a-view-versus-a-copy\n",
      "  df.SkinThickness[df['SkinThickness']==0] = df.SkinThickness[df['SkinThickness']!=0].mean()\n",
      "C:\\Users\\User\\AppData\\Local\\Temp\\ipykernel_12704\\333754670.py:5: SettingWithCopyWarning: \n",
      "A value is trying to be set on a copy of a slice from a DataFrame\n",
      "\n",
      "See the caveats in the documentation: https://pandas.pydata.org/pandas-docs/stable/user_guide/indexing.html#returning-a-view-versus-a-copy\n",
      "  df.BMI[df['BMI']==0] = df.BMI[df['BMI']!=0].mean()\n"
     ]
    }
   ],
   "source": [
    "# 각 컬럼당 0값을 제외한 컬럼의 평균 값으로 0 값 채우기\n",
    "df.Glucose[df['Glucose']==0] = df.Glucose[df['Glucose']!=0].mean()\n",
    "df.BloodPressure[df['BloodPressure']==0] = df.BloodPressure[df['BloodPressure']!=0].mean()\n",
    "df.SkinThickness[df['SkinThickness']==0] = df.SkinThickness[df['SkinThickness']!=0].mean()\n",
    "df.BMI[df['BMI']==0] = df.BMI[df['BMI']!=0].mean()"
   ]
  },
  {
   "cell_type": "markdown",
   "id": "d9b00a41",
   "metadata": {},
   "source": [
    "### [2] 학습 데이터 준비"
   ]
  },
  {
   "cell_type": "code",
   "execution_count": 175,
   "id": "c00b747d",
   "metadata": {},
   "outputs": [],
   "source": [
    "# 데이터 => Outcome 제외한 나머지 컬럼\n",
    "# 타  겟 => 0, 1 (Outcome)\n",
    "\n",
    "data = df.loc[:, df.columns[:-1]]\n",
    "target = df.Outcome"
   ]
  },
  {
   "cell_type": "code",
   "execution_count": 176,
   "id": "bc6c3078",
   "metadata": {},
   "outputs": [
    {
     "name": "stdout",
     "output_type": "stream",
     "text": [
      "data =>  (768, 8)\n",
      "target =>  (768,)\n"
     ]
    }
   ],
   "source": [
    "print('data => ', data.shape)\n",
    "print('target => ', target.shape)"
   ]
  },
  {
   "cell_type": "code",
   "execution_count": 177,
   "id": "ad94d169",
   "metadata": {},
   "outputs": [],
   "source": [
    "# 학습용 , 테스트용 데이터 분리\n",
    "\n",
    "# train:test=75%:25%\n",
    "# test_size=0.X\n",
    "# stratify => 분류 항목 비율 맞추어서 데이터셋 설정\n",
    "# random_state => 매번 동일하게 데이터 구성하는 경우 지정\n",
    "train_X, test_X, train_y, test_y = train_test_split(data,\n",
    "                                                    target,\n",
    "                                                    test_size=0.2,\n",
    "                                                    stratify=target,\n",
    "                                                    random_state=4)"
   ]
  },
  {
   "cell_type": "code",
   "execution_count": 178,
   "id": "5e8df355",
   "metadata": {},
   "outputs": [],
   "source": [
    "# 모델 생성 학습\n",
    "model = LogisticRegression()"
   ]
  },
  {
   "cell_type": "code",
   "execution_count": 179,
   "id": "22db9ffe",
   "metadata": {
    "collapsed": true
   },
   "outputs": [
    {
     "name": "stderr",
     "output_type": "stream",
     "text": [
      "C:\\ProgramData\\Anaconda3\\lib\\site-packages\\sklearn\\linear_model\\_logistic.py:814: ConvergenceWarning: lbfgs failed to converge (status=1):\n",
      "STOP: TOTAL NO. of ITERATIONS REACHED LIMIT.\n",
      "\n",
      "Increase the number of iterations (max_iter) or scale the data as shown in:\n",
      "    https://scikit-learn.org/stable/modules/preprocessing.html\n",
      "Please also refer to the documentation for alternative solver options:\n",
      "    https://scikit-learn.org/stable/modules/linear_model.html#logistic-regression\n",
      "  n_iter_i = _check_optimize_result(\n"
     ]
    },
    {
     "data": {
      "text/plain": [
       "LogisticRegression()"
      ]
     },
     "execution_count": 179,
     "metadata": {},
     "output_type": "execute_result"
    }
   ],
   "source": [
    "# 학습\n",
    "model.fit(train_X.values, train_y)"
   ]
  },
  {
   "cell_type": "code",
   "execution_count": 180,
   "id": "25706e4e",
   "metadata": {},
   "outputs": [
    {
     "name": "stdout",
     "output_type": "stream",
     "text": [
      "분류 종류 :  [0 1]\n",
      "가중치 값 :  [[ 0.11235821  0.03856755 -0.01509113  0.01025378 -0.00331392  0.0998429\n",
      "   2.58331239  0.01056145]]\n",
      "절 편  값 :  [-9.74202485]\n",
      "특성 갯수 :  8\n"
     ]
    }
   ],
   "source": [
    "# 학습 후 설정된 속성\n",
    "print(\"분류 종류 : \", model.classes_)\n",
    "print(\"가중치 값 : \", model.coef_)\n",
    "print(\"절 편  값 : \", model.intercept_)\n",
    "print(\"특성 갯수 : \", model.n_features_in_)"
   ]
  },
  {
   "cell_type": "code",
   "execution_count": 181,
   "id": "4d826d73",
   "metadata": {
    "collapsed": true
   },
   "outputs": [
    {
     "name": "stderr",
     "output_type": "stream",
     "text": [
      "C:\\ProgramData\\Anaconda3\\lib\\site-packages\\sklearn\\base.py:443: UserWarning: X has feature names, but LogisticRegression was fitted without feature names\n",
      "  warnings.warn(\n"
     ]
    },
    {
     "data": {
      "text/plain": [
       "0.7899022801302932"
      ]
     },
     "execution_count": 181,
     "metadata": {},
     "output_type": "execute_result"
    }
   ],
   "source": [
    "# 평가 => score() 학습용 데이터 점수, 테스트용 데이터 점수\n",
    "model.score(train_X, train_y)"
   ]
  },
  {
   "cell_type": "code",
   "execution_count": 182,
   "id": "a9277397",
   "metadata": {},
   "outputs": [
    {
     "data": {
      "text/plain": [
       "array([0, 0, 0, 0, 1, 0, 0, 0, 0, 0, 0, 0, 0, 0, 0, 0, 0, 0, 1, 1, 0, 0,\n",
       "       0, 1, 0, 1, 0, 0, 0, 0, 0, 0, 0, 1, 1, 1, 0, 1, 0, 0, 0, 0, 0, 0,\n",
       "       0, 0, 0, 0, 0, 1, 0, 0, 0, 0, 0, 1, 0, 0, 0, 0, 0, 0, 1, 0, 0, 0,\n",
       "       0, 0, 0, 0, 0, 1, 0, 1, 0, 0, 0, 0, 0, 0, 0, 0, 0, 1, 1, 0, 0, 0,\n",
       "       1, 0, 0, 0, 0, 0, 1, 1, 1, 0, 0, 0, 0, 1, 0, 0, 0, 0, 1, 0, 0, 1,\n",
       "       0, 0, 1, 0, 1, 1, 1, 0, 0, 0, 1, 0, 0, 0, 0, 0, 0, 0, 0, 1, 0, 0,\n",
       "       0, 0, 0, 1, 0, 0, 0, 0, 0, 0, 0, 0, 1, 0, 0, 1, 0, 1, 0, 0, 0, 0,\n",
       "       1, 0, 0, 1, 0, 1, 0, 0, 1, 0, 1, 1, 0, 0, 0, 1, 0, 1, 0, 0, 0, 1,\n",
       "       0, 0, 0, 0, 0, 0, 1, 0, 0, 1, 0, 0, 1, 0, 1, 0, 0, 0, 1, 0, 0, 0,\n",
       "       0, 0, 0, 0, 0, 0, 0, 0, 0, 0, 1, 1, 1, 1, 0, 0, 0, 1, 1, 1, 1, 0,\n",
       "       0, 1, 0, 0, 0, 0, 0, 0, 1, 1, 0, 0, 0, 1, 0, 0, 0, 0, 0, 0, 0, 1,\n",
       "       1, 0, 1, 0, 1, 0, 0, 0, 0, 1, 0, 0, 1, 0, 1, 0, 0, 0, 0, 0, 1, 1,\n",
       "       1, 0, 1, 1, 0, 0, 0, 0, 0, 0, 0, 1, 0, 0, 0, 0, 1, 0, 1, 0, 0, 1,\n",
       "       1, 0, 0, 0, 0, 0, 1, 0, 0, 0, 0, 1, 0, 0, 1, 0, 0, 0, 0, 1, 0, 0,\n",
       "       0, 0, 0, 1, 0, 0, 0, 0, 1, 0, 0, 1, 0, 0, 1, 0, 1, 1, 0, 0, 0, 1,\n",
       "       1, 0, 0, 0, 1, 0, 0, 0, 0, 1, 0, 0, 0, 0, 0, 0, 0, 1, 0, 0, 1, 0,\n",
       "       0, 0, 1, 0, 0, 0, 0, 1, 0, 0, 0, 1, 0, 1, 0, 1, 0, 0, 0, 0, 0, 1,\n",
       "       0, 1, 0, 1, 0, 1, 1, 0, 1, 0, 0, 0, 1, 0, 1, 1, 1, 0, 0, 1, 0, 0,\n",
       "       0, 0, 1, 0, 0, 1, 1, 1, 0, 0, 0, 0, 0, 0, 1, 1, 0, 0, 1, 0, 0, 1,\n",
       "       1, 0, 0, 0, 0, 0, 0, 0, 0, 1, 1, 1, 1, 0, 1, 0, 0, 0, 0, 1, 0, 1,\n",
       "       1, 0, 1, 0, 0, 0, 0, 0, 0, 1, 1, 0, 0, 1, 1, 0, 0, 0, 1, 0, 0, 0,\n",
       "       0, 0, 0, 0, 1, 0, 0, 1, 0, 0, 0, 0, 0, 1, 0, 0, 0, 0, 0, 0, 0, 0,\n",
       "       0, 0, 0, 0, 1, 0, 0, 0, 1, 0, 0, 0, 1, 0, 0, 0, 1, 1, 0, 0, 0, 0,\n",
       "       0, 0, 0, 0, 0, 0, 0, 0, 0, 0, 0, 0, 1, 0, 1, 0, 1, 0, 0, 0, 0, 0,\n",
       "       0, 0, 1, 0, 0, 0, 0, 0, 0, 0, 0, 0, 0, 0, 0, 0, 0, 0, 1, 0, 0, 0,\n",
       "       0, 0, 0, 0, 1, 0, 0, 0, 1, 1, 0, 0, 0, 0, 1, 1, 0, 0, 0, 0, 0, 0,\n",
       "       1, 0, 1, 1, 0, 1, 1, 0, 0, 0, 1, 1, 1, 0, 1, 1, 0, 0, 1, 0, 1, 0,\n",
       "       0, 1, 0, 1, 0, 0, 0, 0, 0, 1, 0, 0, 0, 0, 0, 1, 0, 0, 0, 0],\n",
       "      dtype=int64)"
      ]
     },
     "execution_count": 182,
     "metadata": {},
     "output_type": "execute_result"
    }
   ],
   "source": [
    "# 테스트 => predict(): 새로운 데이터로 진행\n",
    "preY = model.predict(train_X.values)\n",
    "\n",
    "preY"
   ]
  },
  {
   "cell_type": "code",
   "execution_count": 183,
   "id": "63ce47f7",
   "metadata": {},
   "outputs": [
    {
     "name": "stdout",
     "output_type": "stream",
     "text": [
      "예측결과 :  [0]\n"
     ]
    }
   ],
   "source": [
    "# 1개 데이터\n",
    "preY = model.predict([[3.845052, 121.686763, 72.405184, 29.153420, 79.799479, 32.457464, 0.471876, 33.240885]])\n",
    "print('예측결과 : ', preY)"
   ]
  },
  {
   "cell_type": "code",
   "execution_count": 184,
   "id": "06da952e",
   "metadata": {},
   "outputs": [
    {
     "name": "stdout",
     "output_type": "stream",
     "text": [
      "당뇨병 발병 확률이 29.64%입니다.\n"
     ]
    }
   ],
   "source": [
    "probaY = model.predict_proba([[3.845052, 121.686763, 72.405184, 29.153420, 79.799479, 32.457464, 0.471876, 33.240885]])\n",
    "# print('분류항목 : ', model.classes_)\n",
    "# print('예측확률 : ', probaY)\n",
    "print(f'당뇨병 발병 확률이 {round(probaY[0][1]*100, 2)}%입니다.')"
   ]
  }
 ],
 "metadata": {
  "kernelspec": {
   "display_name": "Python 3 (ipykernel)",
   "language": "python",
   "name": "python3"
  },
  "language_info": {
   "codemirror_mode": {
    "name": "ipython",
    "version": 3
   },
   "file_extension": ".py",
   "mimetype": "text/x-python",
   "name": "python",
   "nbconvert_exporter": "python",
   "pygments_lexer": "ipython3",
   "version": "3.9.12"
  }
 },
 "nbformat": 4,
 "nbformat_minor": 5
}
