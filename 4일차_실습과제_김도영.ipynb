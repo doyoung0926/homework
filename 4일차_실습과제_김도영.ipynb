{
 "cells": [
  {
   "cell_type": "markdown",
   "id": "f9279c0e",
   "metadata": {},
   "source": [
    "- DATA\n",
    "- Dataset : sklearn.datasets.digits\n",
    "- 8x8 16화소 숫자 이미지 분류\n",
    "- 분류 모델 적용\n",
    "- LogisticRegression, SVC 비교\n",
    "- Scale 적용 & 미적용 성능 비교"
   ]
  },
  {
   "cell_type": "code",
   "execution_count": 72,
   "id": "e1fbfb48",
   "metadata": {},
   "outputs": [],
   "source": [
    "## 모듈 로딩\n",
    "from sklearn.svm import SVC\n",
    "from sklearn.datasets import load_digits\n",
    "from sklearn.model_selection import train_test_split\n",
    "from sklearn.linear_model import LogisticRegression\n",
    "from sklearn.preprocessing import StandardScaler, MinMaxScaler\n",
    "import numpy as np\n",
    "import matplotlib.pyplot as plt"
   ]
  },
  {
   "cell_type": "markdown",
   "id": "56f04a72",
   "metadata": {},
   "source": [
    "### [1] 데이터 준비"
   ]
  },
  {
   "cell_type": "code",
   "execution_count": 73,
   "id": "6d68d41b",
   "metadata": {},
   "outputs": [],
   "source": [
    "digit = load_digits()"
   ]
  },
  {
   "cell_type": "code",
   "execution_count": 74,
   "id": "c231dc4d",
   "metadata": {},
   "outputs": [],
   "source": [
    "# data, target 분리\n",
    "data = digit['data']\n",
    "target = digit['target']"
   ]
  },
  {
   "cell_type": "code",
   "execution_count": 75,
   "id": "7c5650ea",
   "metadata": {},
   "outputs": [
    {
     "name": "stdout",
     "output_type": "stream",
     "text": [
      "data : (1797, 64), target: (1797,)\n"
     ]
    }
   ],
   "source": [
    "print(f'data : {data.shape}, target: {target.shape}')"
   ]
  },
  {
   "cell_type": "code",
   "execution_count": 76,
   "id": "c31bc2ba",
   "metadata": {
    "scrolled": true
   },
   "outputs": [
    {
     "data": {
      "text/plain": [
       "array([[[ 0.,  0.,  5., ...,  1.,  0.,  0.],\n",
       "        [ 0.,  0., 13., ..., 15.,  5.,  0.],\n",
       "        [ 0.,  3., 15., ..., 11.,  8.,  0.],\n",
       "        ...,\n",
       "        [ 0.,  4., 11., ..., 12.,  7.,  0.],\n",
       "        [ 0.,  2., 14., ..., 12.,  0.,  0.],\n",
       "        [ 0.,  0.,  6., ...,  0.,  0.,  0.]],\n",
       "\n",
       "       [[ 0.,  0.,  0., ...,  5.,  0.,  0.],\n",
       "        [ 0.,  0.,  0., ...,  9.,  0.,  0.],\n",
       "        [ 0.,  0.,  3., ...,  6.,  0.,  0.],\n",
       "        ...,\n",
       "        [ 0.,  0.,  1., ...,  6.,  0.,  0.],\n",
       "        [ 0.,  0.,  1., ...,  6.,  0.,  0.],\n",
       "        [ 0.,  0.,  0., ..., 10.,  0.,  0.]],\n",
       "\n",
       "       [[ 0.,  0.,  0., ..., 12.,  0.,  0.],\n",
       "        [ 0.,  0.,  3., ..., 14.,  0.,  0.],\n",
       "        [ 0.,  0.,  8., ..., 16.,  0.,  0.],\n",
       "        ...,\n",
       "        [ 0.,  9., 16., ...,  0.,  0.,  0.],\n",
       "        [ 0.,  3., 13., ..., 11.,  5.,  0.],\n",
       "        [ 0.,  0.,  0., ..., 16.,  9.,  0.]],\n",
       "\n",
       "       ...,\n",
       "\n",
       "       [[ 0.,  0.,  1., ...,  1.,  0.,  0.],\n",
       "        [ 0.,  0., 13., ...,  2.,  1.,  0.],\n",
       "        [ 0.,  0., 16., ..., 16.,  5.,  0.],\n",
       "        ...,\n",
       "        [ 0.,  0., 16., ..., 15.,  0.,  0.],\n",
       "        [ 0.,  0., 15., ..., 16.,  0.,  0.],\n",
       "        [ 0.,  0.,  2., ...,  6.,  0.,  0.]],\n",
       "\n",
       "       [[ 0.,  0.,  2., ...,  0.,  0.,  0.],\n",
       "        [ 0.,  0., 14., ..., 15.,  1.,  0.],\n",
       "        [ 0.,  4., 16., ..., 16.,  7.,  0.],\n",
       "        ...,\n",
       "        [ 0.,  0.,  0., ..., 16.,  2.,  0.],\n",
       "        [ 0.,  0.,  4., ..., 16.,  2.,  0.],\n",
       "        [ 0.,  0.,  5., ..., 12.,  0.,  0.]],\n",
       "\n",
       "       [[ 0.,  0., 10., ...,  1.,  0.,  0.],\n",
       "        [ 0.,  2., 16., ...,  1.,  0.,  0.],\n",
       "        [ 0.,  0., 15., ..., 15.,  0.,  0.],\n",
       "        ...,\n",
       "        [ 0.,  4., 16., ..., 16.,  6.,  0.],\n",
       "        [ 0.,  8., 16., ..., 16.,  8.,  0.],\n",
       "        [ 0.,  1.,  8., ..., 12.,  1.,  0.]]])"
      ]
     },
     "execution_count": 76,
     "metadata": {},
     "output_type": "execute_result"
    }
   ],
   "source": [
    "digit['images']"
   ]
  },
  {
   "cell_type": "code",
   "execution_count": 77,
   "id": "9b64a576",
   "metadata": {},
   "outputs": [],
   "source": [
    "# 사이킷런으로 훈련 세트와 테스트 세트 나누기\n",
    "# 4개의 데이터셋을 리턴\n",
    "train_input, test_input, train_target, test_target = train_test_split(\n",
    "data, target, stratify=target, random_state=42)"
   ]
  },
  {
   "cell_type": "markdown",
   "id": "5d29443d",
   "metadata": {},
   "source": [
    "# 스케일링 안한 것"
   ]
  },
  {
   "cell_type": "markdown",
   "id": "c8569a74",
   "metadata": {},
   "source": [
    "### LogisticRegression"
   ]
  },
  {
   "cell_type": "code",
   "execution_count": 78,
   "id": "f05ff19b",
   "metadata": {},
   "outputs": [
    {
     "name": "stdout",
     "output_type": "stream",
     "text": [
      "train data score:  1.0\n",
      "test data score:  0.9533333333333334\n"
     ]
    }
   ],
   "source": [
    "# 훈련 데이터를 이용한 직선 방정식 구하기\n",
    "from sklearn.linear_model import LogisticRegression\n",
    "\n",
    "# 모델 객체 생성\n",
    "model = LogisticRegression(max_iter=3000)\n",
    "# 로지스틱 회귀 모델 훈련\n",
    "model.fit(train_input, train_target)\n",
    "# 로지스틱 회귀 모델 평가\n",
    "print('train data score: ',\n",
    "      model.score(train_input, train_target))\n",
    "print('test data score: ',\n",
    "      model.score(test_input, test_target))\n",
    "# 과대적합"
   ]
  },
  {
   "cell_type": "markdown",
   "id": "3c8d3b59",
   "metadata": {},
   "source": [
    "### SVC"
   ]
  },
  {
   "cell_type": "code",
   "execution_count": 79,
   "id": "68a538fb",
   "metadata": {},
   "outputs": [
    {
     "name": "stdout",
     "output_type": "stream",
     "text": [
      "train data score:  0.9985152190051967\n",
      "test data score:  0.9911111111111112\n"
     ]
    }
   ],
   "source": [
    "# 모델 객체 생성\n",
    "svm_clf = SVC()\n",
    "# 모델 훈련\n",
    "svm_clf.fit(train_input, train_target)\n",
    "# 모델 평가\n",
    "print('train data score: ',\n",
    "     svm_clf.score(train_input, train_target))\n",
    "print('test data score: ',\n",
    "     svm_clf.score(test_input, test_target))\n",
    "# 과대적합하지만 전체적으로 적합"
   ]
  },
  {
   "cell_type": "markdown",
   "id": "a403dbdf",
   "metadata": {},
   "source": [
    "# 스케일링(표준화)\n",
    "---\n",
    "- 평균이 0이고 분산이 1인 값으로 표준화 시켜줌"
   ]
  },
  {
   "cell_type": "code",
   "execution_count": 80,
   "id": "787ecd71",
   "metadata": {},
   "outputs": [],
   "source": [
    "# 표준화\n",
    "ss = StandardScaler()\n",
    "ss.fit(train_input)\n",
    "train_scaled = ss.transform(train_input)\n",
    "test_scaled = ss.transform(test_input)"
   ]
  },
  {
   "cell_type": "markdown",
   "id": "fbd6c5cd",
   "metadata": {},
   "source": [
    "## 로지스틱"
   ]
  },
  {
   "cell_type": "code",
   "execution_count": 81,
   "id": "57481abc",
   "metadata": {},
   "outputs": [
    {
     "name": "stdout",
     "output_type": "stream",
     "text": [
      "train data score:  1.0\n",
      "test data score:  0.9777777777777777\n"
     ]
    }
   ],
   "source": [
    "# 모델 객체 생성\n",
    "model = LogisticRegression(max_iter=3000)\n",
    "# 로지스틱 회귀 모델 훈련\n",
    "model.fit(train_scaled, train_target)\n",
    "# 로지스틱 회귀 모델 평가\n",
    "print('train data score: ',\n",
    "      model.score(train_scaled, train_target))\n",
    "print('test data score: ',\n",
    "      model.score(test_scaled, test_target))\n",
    "# 과대적합하지만 전체적으로 적합"
   ]
  },
  {
   "cell_type": "markdown",
   "id": "3a3ec31d",
   "metadata": {},
   "source": [
    "## SVC"
   ]
  },
  {
   "cell_type": "code",
   "execution_count": 82,
   "id": "24b624fa",
   "metadata": {},
   "outputs": [
    {
     "name": "stdout",
     "output_type": "stream",
     "text": [
      "train data score:  0.9977728285077951\n",
      "test data score:  0.98\n"
     ]
    }
   ],
   "source": [
    "# 모델 객체 생성\n",
    "svm_clf = SVC()\n",
    "# 모델 훈련\n",
    "svm_clf.fit(train_scaled, train_target)\n",
    "# 모델 평가\n",
    "print('train data score: ',\n",
    "     svm_clf.score(train_scaled, train_target))\n",
    "print('test data score: ',\n",
    "     svm_clf.score(test_scaled, test_target))\n",
    "# 과대적합하지만 전체적으로 적합"
   ]
  },
  {
   "cell_type": "markdown",
   "id": "d3978357",
   "metadata": {},
   "source": [
    "## 스케일링(정규화)\n",
    "---\n",
    "- 데이터 값을 0과 1사이의 범위 값으로 변환"
   ]
  },
  {
   "cell_type": "code",
   "execution_count": 83,
   "id": "48b2e005",
   "metadata": {},
   "outputs": [],
   "source": [
    "mms = MinMaxScaler()\n",
    "mms.fit(train_input)\n",
    "train_scaled = mms.transform(train_input)\n",
    "test_scaled = mms.transform(test_input)"
   ]
  },
  {
   "cell_type": "markdown",
   "id": "9a937dd1",
   "metadata": {},
   "source": [
    "## LogisticRegression"
   ]
  },
  {
   "cell_type": "code",
   "execution_count": 84,
   "id": "597c0297",
   "metadata": {
    "scrolled": true
   },
   "outputs": [
    {
     "name": "stdout",
     "output_type": "stream",
     "text": [
      "train data score:  0.985894580549369\n",
      "test data score:  0.9622222222222222\n"
     ]
    }
   ],
   "source": [
    "# 모델 객체 생성\n",
    "model = LogisticRegression(max_iter=3000)\n",
    "# 로지스틱 회귀 모델 훈련\n",
    "model.fit(train_scaled, train_target)\n",
    "# 로지스틱 회귀 모델 평가\n",
    "print('train data score: ',\n",
    "      model.score(train_scaled, train_target))\n",
    "print('test data score: ',\n",
    "      model.score(test_scaled, test_target))\n",
    "# 과대적합"
   ]
  },
  {
   "cell_type": "markdown",
   "id": "6e29c782",
   "metadata": {},
   "source": [
    "## SVC"
   ]
  },
  {
   "cell_type": "code",
   "execution_count": 85,
   "id": "5119ddcd",
   "metadata": {},
   "outputs": [
    {
     "name": "stdout",
     "output_type": "stream",
     "text": [
      "train data score:  0.9985152190051967\n",
      "test data score:  0.9911111111111112\n"
     ]
    }
   ],
   "source": [
    "# 모델 객체 생성\n",
    "svm_clf = SVC()\n",
    "# 모델 훈련\n",
    "svm_clf.fit(train_scaled, train_target)\n",
    "# 모델 평가\n",
    "print('train data score: ',\n",
    "     svm_clf.score(train_scaled, train_target))\n",
    "print('test data score: ',\n",
    "     svm_clf.score(test_scaled, test_target))\n",
    "# 과대적합하지만 전체적으로 적합"
   ]
  }
 ],
 "metadata": {
  "kernelspec": {
   "display_name": "Python 3 (ipykernel)",
   "language": "python",
   "name": "python3"
  },
  "language_info": {
   "codemirror_mode": {
    "name": "ipython",
    "version": 3
   },
   "file_extension": ".py",
   "mimetype": "text/x-python",
   "name": "python",
   "nbconvert_exporter": "python",
   "pygments_lexer": "ipython3",
   "version": "3.9.12"
  }
 },
 "nbformat": 4,
 "nbformat_minor": 5
}
