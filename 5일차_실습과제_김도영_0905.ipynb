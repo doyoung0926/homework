{
 "cells": [
  {
   "cell_type": "markdown",
   "id": "2724ce1a",
   "metadata": {},
   "source": [
    "<!-- [ 2022. 09. 05] - 과제 -\n",
    "\n",
    "(1) 전처리\n",
    "- 나라별 알파벳 패턴(많이 사용되는 알파벳) 분석\n",
    "-\n",
    "\n",
    "(2) 학습\n",
    "- 교차 검증 적용\n",
    "- 분류 모델 적용 학습 -->"
   ]
  },
  {
   "cell_type": "markdown",
   "id": "a0c757d9",
   "metadata": {},
   "source": [
    "# [ 2022. 09. 05] - 과제 -\n",
    "\n",
    "### (1) 전처리\n",
    "- 나라별 알파벳 패턴(많이 사용되는 알파벳) 분석\n",
    "\n",
    "\n",
    "### (2) 학습\n",
    "- 교차 검증 적용\n",
    "- 분류 모델 적용 학습"
   ]
  },
  {
   "cell_type": "markdown",
   "id": "2e4ac4bb",
   "metadata": {},
   "source": [
    "## [1] 데이터 로딩 및 전처리\n",
    "---"
   ]
  },
  {
   "cell_type": "markdown",
   "id": "6aff4ae2",
   "metadata": {},
   "source": [
    "## train"
   ]
  },
  {
   "cell_type": "code",
   "execution_count": 639,
   "id": "fbdcaaa5",
   "metadata": {},
   "outputs": [],
   "source": [
    "# 모듈로딩\n",
    "import pandas as pd\n",
    "import os\n",
    "import re\n",
    "import numpy as np\n",
    "from sklearn.utils import all_estimators\n",
    "from sklearn.linear_model import LogisticRegression\n",
    "from sklearn.linear_model import SGDClassifier\n",
    "from sklearn.svm import SVC\n",
    "from sklearn.tree import DecisionTreeClassifier\n",
    "from sklearn.ensemble import RandomForestClassifier\n",
    "from sklearn.model_selection import cross_validate"
   ]
  },
  {
   "cell_type": "code",
   "execution_count": 640,
   "id": "10099fba",
   "metadata": {},
   "outputs": [],
   "source": [
    "# 경고 무시\n",
    "import warnings\n",
    "warnings.filterwarnings(action='ignore')"
   ]
  },
  {
   "cell_type": "code",
   "execution_count": 641,
   "id": "e4f311cf",
   "metadata": {},
   "outputs": [],
   "source": [
    "# 파일 관련\n",
    "FILE_train=os.listdir('./lang/train')\n",
    "FILE_test=os.listdir('./lang/test')"
   ]
  },
  {
   "cell_type": "code",
   "execution_count": 642,
   "id": "dd252054",
   "metadata": {},
   "outputs": [],
   "source": [
    "# 알파벳 빈도 수 체크\n",
    "count=[]\n",
    "for file in FILE_train:\n",
    "    f=open('./lang/train/'+str(file), 'r', encoding = 'utf-8')  # 파일명의 텍스트 파일을 읽기전용으로 열기\n",
    "    text = f.read()  # 읽어온 텍스트파일의 전체를 하나의 문자열로 읽기\n",
    "    text = text.lower()  # 텍스트파일 전체를 소문자로 바꾸기\n",
    "    f.close()\n",
    "    r_text=re.sub(\"[^a-z]\",\"\",text)\n",
    "    \n",
    "    Alphabet = 'abcdefghijklmnopqrstuvwxyz'\n",
    "    \n",
    "    d = [0] * 26\n",
    "    \n",
    "    for i in r_text:\n",
    "        if i in Alphabet:\n",
    "            idx = Alphabet.find(i)\n",
    "            d[idx] += 1\n",
    "            \n",
    "    count.append(d)\n",
    "\n",
    "# 알파벳 빈도수 리스트 => 시리즈 형변환\n",
    "b=[]\n",
    "for i in count:\n",
    "    i=pd.Series(i)\n",
    "    b.append(i)\n",
    "    \n",
    "# 텍스트 파일 빈도 수 => 데이터프레임 형변환\n",
    "train_df = pd.concat(b, axis = 1).T\n",
    "train_df.columns = ['a','b','c','d','e','f','g','h','i','j','k','l','m','n','o','p','q','r','s','t','u','v','w','x','y','z']\n",
    "\n",
    "# 값을 파일별로 퍼센트로 넣기\n",
    "country_sum = train_df.apply(np.sum,axis = 1)\n",
    "\n",
    "for i in train_df.index:\n",
    "    row=[]\n",
    "    for j in train_df.columns:\n",
    "        row.append((train_df.iloc[i][j] / country_sum[i])*100)\n",
    "    train_df.iloc[i]=row\n",
    "\n",
    "# 나라 컬럼 넣기\n",
    "idx = []\n",
    "for i in FILE_train:\n",
    "    idx.append(i[:2])\n",
    "    \n",
    "train_df.insert(0, 'country', idx)"
   ]
  },
  {
   "cell_type": "markdown",
   "id": "40cd9140",
   "metadata": {},
   "source": [
    "## test"
   ]
  },
  {
   "cell_type": "code",
   "execution_count": 643,
   "id": "b2255e1f",
   "metadata": {},
   "outputs": [],
   "source": [
    "# 알파벳 빈도 수 체크\n",
    "count=[]\n",
    "for file in FILE_test:\n",
    "    f=open('./lang/test/'+str(file), 'r', encoding = 'utf-8')  # 파일명의 텍스트 파일을 읽기전용으로 열기\n",
    "    text = f.read()  # 읽어온 텍스트파일의 전체를 하나의 문자열로 읽기\n",
    "    text = text.lower()  # 텍스트파일 전체를 소문자로 바꾸기\n",
    "    f.close()\n",
    "    r_text=re.sub(\"[^a-z]\",\"\",text)\n",
    "    \n",
    "    Alphabet = 'abcdefghijklmnopqrstuvwxyz'\n",
    "    \n",
    "    d = [0] * 26\n",
    "    \n",
    "    for i in r_text:\n",
    "        if i in Alphabet:\n",
    "            idx = Alphabet.find(i)\n",
    "            d[idx] += 1\n",
    "            \n",
    "    count.append(d)\n",
    "\n",
    "# 알파벳 빈도수 리스트 => 시리즈 형변환\n",
    "b=[]\n",
    "for i in count:\n",
    "    i=pd.Series(i)\n",
    "    b.append(i)\n",
    "    \n",
    "# 텍스트 파일 빈도 수 => 데이터프레임 형변환\n",
    "test_df = pd.concat(b, axis = 1).T\n",
    "test_df.columns = ['a','b','c','d','e','f','g','h','i','j','k','l','m','n','o','p','q','r','s','t','u','v','w','x','y','z']\n",
    "\n",
    "# 값을 파일별로 퍼센트로 넣기\n",
    "country_sum = test_df.apply(np.sum,axis = 1)\n",
    "\n",
    "for i in test_df.index:\n",
    "    row=[]\n",
    "    for j in test_df.columns:\n",
    "        row.append((test_df.iloc[i][j] / country_sum[i])*100)\n",
    "    test_df.iloc[i]=row\n",
    "\n",
    "# 나라 컬럼 넣기\n",
    "idx = []\n",
    "for i in FILE_test:\n",
    "    idx.append(i[:2])\n",
    "    \n",
    "test_df.insert(0, 'country', idx)"
   ]
  },
  {
   "cell_type": "code",
   "execution_count": 644,
   "id": "f9bdd0f1",
   "metadata": {},
   "outputs": [
    {
     "name": "stdout",
     "output_type": "stream",
     "text": [
      "  country         a         b         c         d          e         f  \\\n",
      "0      en  7.595212  1.284004  4.570185  4.613711  10.533188  1.566921   \n",
      "1      en  8.417789  1.991177  3.040420  3.886968  13.699773  1.740789   \n",
      "2      en  7.164592  1.217151  4.564315  3.264177  12.005533  1.466113   \n",
      "3      en  7.220965  2.771493  2.997738  3.959276  12.104072  1.677979   \n",
      "4      en  7.380640  2.036794  3.109943  3.964082  14.126150  2.036794   \n",
      "\n",
      "          g         h         i  ...         q         r         s         t  \\\n",
      "0  1.915125  4.374320  7.399347  ...  0.000000  7.769314  6.137106  8.052231   \n",
      "1  3.123882  2.742339  7.535472  ...  0.548468  9.013950  7.165852  7.773936   \n",
      "2  2.517289  2.351314  9.460581  ...  0.165975  5.394191  8.796680  8.105118   \n",
      "3  2.356712  5.901207  6.523379  ...  0.037707  5.920060  7.334087  9.370287   \n",
      "4  2.036794  5.694262  6.504599  ...  0.043802  7.249233  5.957074  9.548839   \n",
      "\n",
      "          u         v         w         x         y         z  \n",
      "0  2.589771  0.979325  1.414581  0.065288  2.002176  0.043526  \n",
      "1  3.064266  1.371170  1.395016  0.202695  1.073089  0.059616  \n",
      "2  2.904564  1.881051  1.189488  0.055325  1.798064  0.055325  \n",
      "3  2.432127  0.509050  1.960784  0.603318  1.753394  0.169683  \n",
      "4  2.496715  1.073149  2.387210  0.306614  1.489269  0.065703  \n",
      "\n",
      "[5 rows x 27 columns]   country          a         b         c         d          e         f  \\\n",
      "0      en   6.782262  1.345930  3.432780  4.881738  11.611390  2.001359   \n",
      "1      en   8.028288  1.617428  3.534997  3.834157  12.986503  1.670394   \n",
      "2      fr   5.676429  1.200783  3.583528  4.987578  12.715501  1.347587   \n",
      "3      fr   7.187479  1.141255  3.847597  4.033024  13.935675  1.218516   \n",
      "4      id  10.432239  2.242444  1.527462  4.419890   8.937277  1.137472   \n",
      "\n",
      "          g         h         i  ...         q         r         s         t  \\\n",
      "0  1.600210  2.279752  7.691970  ...  0.065762  7.012429  7.955019  7.512221   \n",
      "1  1.895009  4.269656  7.398580  ...  0.113779  6.622724  6.359856  7.888026   \n",
      "2  0.862004  0.730257  8.604984  ...  0.636151  6.730407  9.007754  6.843334   \n",
      "3  1.538597  1.841019  7.949052  ...  0.688727  6.406040  7.302267  6.633408   \n",
      "4  2.664933  1.559961  9.051024  ...  0.064998  6.954826  7.929802  5.281118   \n",
      "\n",
      "          u         v         w         x         y         z  \n",
      "0  2.591026  1.477455  3.610338  0.563362  1.308665  0.041649  \n",
      "1  2.763065  1.302574  1.487955  0.211864  1.330038  0.149090  \n",
      "2  4.291199  1.385229  2.890913  0.929760  0.515697  0.041406  \n",
      "3  4.865235  1.359793  0.289177  0.428247  0.335533  0.119203  \n",
      "4  3.688658  1.657459  3.363666  0.487488  0.958726  0.048749  \n",
      "\n",
      "[5 rows x 27 columns]\n"
     ]
    }
   ],
   "source": [
    "print(train_df.head(), test_df.head())"
   ]
  },
  {
   "cell_type": "markdown",
   "id": "7191499d",
   "metadata": {},
   "source": [
    "## [2] 학습 데이터 분리\n",
    "---"
   ]
  },
  {
   "cell_type": "code",
   "execution_count": 645,
   "id": "9f029232",
   "metadata": {},
   "outputs": [],
   "source": [
    "train_input = train_df[train_df.columns[1:]]\n",
    "train_target = train_df['country']\n",
    "\n",
    "test_input = test_df[test_df.columns[1:]]\n",
    "test_target = test_df['country']"
   ]
  },
  {
   "cell_type": "code",
   "execution_count": 646,
   "id": "b229bcb9",
   "metadata": {},
   "outputs": [
    {
     "data": {
      "text/plain": [
       "((20, 26), (8, 26))"
      ]
     },
     "execution_count": 646,
     "metadata": {},
     "output_type": "execute_result"
    }
   ],
   "source": [
    "# DataFrame -> Numpy\n",
    "train_input = train_input.to_numpy()\n",
    "test_input = test_input.to_numpy()\n",
    "\n",
    "train_input.shape, test_input.shape"
   ]
  },
  {
   "cell_type": "markdown",
   "id": "0f49ce67",
   "metadata": {},
   "source": [
    "## [3] 학습 및 평가\n",
    "---"
   ]
  },
  {
   "cell_type": "markdown",
   "id": "484c04d7",
   "metadata": {},
   "source": [
    "### sklearn 모델 추천 함수 활용"
   ]
  },
  {
   "cell_type": "code",
   "execution_count": 647,
   "id": "8e288d56",
   "metadata": {},
   "outputs": [],
   "source": [
    "models = all_estimators(type_filter='classifier')"
   ]
  },
  {
   "cell_type": "code",
   "execution_count": 648,
   "id": "1e7870da",
   "metadata": {},
   "outputs": [
    {
     "data": {
      "text/plain": [
       "[('AdaBoostClassifier', 0.75),\n",
       " ('BaggingClassifier', 1.0),\n",
       " ('BernoulliNB', 0.25),\n",
       " ('CalibratedClassifierCV', 0.875),\n",
       " ('ComplementNB', 0.75),\n",
       " ('DecisionTreeClassifier', 0.75),\n",
       " ('DummyClassifier', 0.25),\n",
       " ('ExtraTreeClassifier', 0.625),\n",
       " ('ExtraTreesClassifier', 1.0),\n",
       " ('GaussianNB', 0.75),\n",
       " ('GaussianProcessClassifier', 1.0),\n",
       " ('GradientBoostingClassifier', 1.0),\n",
       " ('HistGradientBoostingClassifier', 0.25),\n",
       " ('KNeighborsClassifier', 0.75),\n",
       " ('LabelPropagation', 0.875),\n",
       " ('LabelSpreading', 0.875),\n",
       " ('LinearDiscriminantAnalysis', 0.875),\n",
       " ('LinearSVC', 1.0),\n",
       " ('LogisticRegression', 1.0),\n",
       " ('LogisticRegressionCV', 1.0),\n",
       " ('MLPClassifier', 0.875),\n",
       " ('MultinomialNB', 1.0),\n",
       " ('NearestCentroid', 1.0),\n",
       " ('NuSVC', 1.0),\n",
       " ('PassiveAggressiveClassifier', 1.0),\n",
       " ('Perceptron', 1.0),\n",
       " ('QuadraticDiscriminantAnalysis', 0.625),\n",
       " ('RandomForestClassifier', 1.0),\n",
       " ('RidgeClassifier', 0.875),\n",
       " ('RidgeClassifierCV', 0.875),\n",
       " ('SGDClassifier', 1.0),\n",
       " ('SVC', 1.0)]"
      ]
     },
     "execution_count": 648,
     "metadata": {},
     "output_type": "execute_result"
    }
   ],
   "source": [
    "scores = []\n",
    "for name, model in models:\n",
    "    try:\n",
    "        # 모델 객체 생성\n",
    "        md=model()\n",
    "        # 학습\n",
    "        md.fit(train_input, train_target)\n",
    "        # 평가\n",
    "        result=md.score(test_input, test_target)\n",
    "        scores.append((name, np.round(result, 3)))\n",
    "    except:\n",
    "        pass\n",
    "    \n",
    "scores"
   ]
  },
  {
   "cell_type": "markdown",
   "id": "2138e9e3",
   "metadata": {},
   "source": [
    "### LogisticRegression"
   ]
  },
  {
   "cell_type": "code",
   "execution_count": 649,
   "id": "1f7287fd",
   "metadata": {},
   "outputs": [
    {
     "data": {
      "text/plain": [
       "LogisticRegression()"
      ]
     },
     "execution_count": 649,
     "metadata": {},
     "output_type": "execute_result"
    }
   ],
   "source": [
    "model = LogisticRegression()\n",
    "model.fit(train_input, train_target)"
   ]
  },
  {
   "cell_type": "code",
   "execution_count": 650,
   "id": "8c6de10e",
   "metadata": {
    "scrolled": false
   },
   "outputs": [
    {
     "name": "stdout",
     "output_type": "stream",
     "text": [
      "train set score:  1.0 \n",
      "test set score:  1.0\n"
     ]
    }
   ],
   "source": [
    "print('train set score: ', model.score(train_input, train_target), '\\ntest set score: ', model.score(test_input, test_target))"
   ]
  },
  {
   "cell_type": "code",
   "execution_count": 651,
   "id": "22985f76",
   "metadata": {
    "scrolled": true
   },
   "outputs": [
    {
     "name": "stdout",
     "output_type": "stream",
     "text": [
      "train_score:  1.0 \n",
      "test_score:  1.0\n"
     ]
    }
   ],
   "source": [
    "# 5-Fold로 5등분으로 나누어서 학습/검증 모델 생성 진행\n",
    "result=cross_validate(model,\n",
    "                     train_input,\n",
    "                     train_target,\n",
    "                     return_train_score=True)\n",
    "print('train_score: ', np.mean(result['train_score']), '\\ntest_score: ', np.mean(result['test_score']))"
   ]
  },
  {
   "cell_type": "markdown",
   "id": "15db7f0d",
   "metadata": {},
   "source": [
    "### SGDClassifier"
   ]
  },
  {
   "cell_type": "code",
   "execution_count": 652,
   "id": "f881cdf5",
   "metadata": {},
   "outputs": [
    {
     "data": {
      "text/plain": [
       "SGDClassifier()"
      ]
     },
     "execution_count": 652,
     "metadata": {},
     "output_type": "execute_result"
    }
   ],
   "source": [
    "sc = SGDClassifier()\n",
    "sc.fit(train_input, train_target)"
   ]
  },
  {
   "cell_type": "code",
   "execution_count": 653,
   "id": "f2646b71",
   "metadata": {},
   "outputs": [
    {
     "name": "stdout",
     "output_type": "stream",
     "text": [
      "train set score:  1.0 \n",
      "test set score:  1.0\n"
     ]
    }
   ],
   "source": [
    "print('train set score: ', sc.score(train_input, train_target), '\\ntest set score: ', sc.score(test_input, test_target))"
   ]
  },
  {
   "cell_type": "code",
   "execution_count": 654,
   "id": "c724fbb9",
   "metadata": {},
   "outputs": [
    {
     "name": "stdout",
     "output_type": "stream",
     "text": [
      "train_score:  0.95 \n",
      "test_score:  0.9\n"
     ]
    }
   ],
   "source": [
    "# 5-Fold로 5등분으로 나누어서 학습/검증 모델 생성 진행\n",
    "result=cross_validate(sc,\n",
    "                     train_input,\n",
    "                     train_target,\n",
    "                     return_train_score=True)\n",
    "print('train_score: ', np.mean(result['train_score']), '\\ntest_score: ', np.mean(result['test_score']))"
   ]
  },
  {
   "cell_type": "markdown",
   "id": "0fceb65d",
   "metadata": {},
   "source": [
    "### SVM(Support Vector Machine)\n",
    "---"
   ]
  },
  {
   "cell_type": "code",
   "execution_count": 655,
   "id": "b5b9ef40",
   "metadata": {},
   "outputs": [
    {
     "data": {
      "text/plain": [
       "SVC()"
      ]
     },
     "execution_count": 655,
     "metadata": {},
     "output_type": "execute_result"
    }
   ],
   "source": [
    "svm_clf = SVC()\n",
    "svm_clf.fit(train_input, train_target)"
   ]
  },
  {
   "cell_type": "code",
   "execution_count": 656,
   "id": "16fe2fbb",
   "metadata": {
    "scrolled": true
   },
   "outputs": [
    {
     "name": "stdout",
     "output_type": "stream",
     "text": [
      "train set score:  1.0 \n",
      "test set score:  1.0\n"
     ]
    }
   ],
   "source": [
    "print('train set score: ', svm_clf.score(train_input, train_target), '\\ntest set score: ', svm_clf.score(test_input, test_target))"
   ]
  },
  {
   "cell_type": "code",
   "execution_count": 657,
   "id": "126d8535",
   "metadata": {},
   "outputs": [
    {
     "name": "stdout",
     "output_type": "stream",
     "text": [
      "train_score:  1.0 \n",
      "test_score:  1.0\n"
     ]
    }
   ],
   "source": [
    "# 5-Fold로 5등분으로 나누어서 학습/검증 모델 생성 진행\n",
    "result=cross_validate(svm_clf,\n",
    "                     train_input,\n",
    "                     train_target,\n",
    "                     return_train_score=True)\n",
    "print('train_score: ', np.mean(result['train_score']), '\\ntest_score: ', np.mean(result['test_score']))"
   ]
  },
  {
   "cell_type": "markdown",
   "id": "4e0b33c6",
   "metadata": {},
   "source": [
    "### 결정트리(Decision Tree)\n",
    "---"
   ]
  },
  {
   "cell_type": "code",
   "execution_count": 658,
   "id": "cbb5977a",
   "metadata": {},
   "outputs": [
    {
     "data": {
      "text/plain": [
       "DecisionTreeClassifier()"
      ]
     },
     "execution_count": 658,
     "metadata": {},
     "output_type": "execute_result"
    }
   ],
   "source": [
    "dtModel = DecisionTreeClassifier()\n",
    "dtModel.fit(train_input, train_target)"
   ]
  },
  {
   "cell_type": "code",
   "execution_count": 659,
   "id": "28608590",
   "metadata": {
    "scrolled": true
   },
   "outputs": [
    {
     "name": "stdout",
     "output_type": "stream",
     "text": [
      "train set score:  1.0 \n",
      "test set score:  0.875\n"
     ]
    }
   ],
   "source": [
    "print('train set score: ', dtModel.score(train_input, train_target), '\\ntest set score: ', dtModel.score(test_input, test_target))"
   ]
  },
  {
   "cell_type": "code",
   "execution_count": 660,
   "id": "82bea553",
   "metadata": {},
   "outputs": [
    {
     "name": "stdout",
     "output_type": "stream",
     "text": [
      "train_score:  1.0 \n",
      "test_score:  0.75\n"
     ]
    }
   ],
   "source": [
    "# 5-Fold로 5등분으로 나누어서 학습/검증 모델 생성 진행\n",
    "result=cross_validate(dtModel,\n",
    "                     train_input,\n",
    "                     train_target,\n",
    "                     return_train_score=True)\n",
    "print('train_score: ', np.mean(result['train_score']), '\\ntest_score: ', np.mean(result['test_score']))"
   ]
  },
  {
   "cell_type": "markdown",
   "id": "2aed38af",
   "metadata": {},
   "source": [
    "### RandomForest"
   ]
  },
  {
   "cell_type": "code",
   "execution_count": 661,
   "id": "c98ec1b0",
   "metadata": {},
   "outputs": [
    {
     "data": {
      "text/plain": [
       "RandomForestClassifier()"
      ]
     },
     "execution_count": 661,
     "metadata": {},
     "output_type": "execute_result"
    }
   ],
   "source": [
    "forestModel = RandomForestClassifier()\n",
    "forestModel.fit(train_input, train_target)"
   ]
  },
  {
   "cell_type": "code",
   "execution_count": 662,
   "id": "2260a811",
   "metadata": {
    "scrolled": true
   },
   "outputs": [
    {
     "name": "stdout",
     "output_type": "stream",
     "text": [
      "train set score:  1.0 \n",
      "test set score:  1.0\n"
     ]
    }
   ],
   "source": [
    "print('train set score: ', forestModel.score(train_input, train_target), '\\ntest set score: ', forestModel.score(test_input, test_target))"
   ]
  },
  {
   "cell_type": "code",
   "execution_count": 663,
   "id": "98d5f8c5",
   "metadata": {},
   "outputs": [
    {
     "name": "stdout",
     "output_type": "stream",
     "text": [
      "train_score:  1.0 \n",
      "test_score:  1.0\n"
     ]
    }
   ],
   "source": [
    "# 5-Fold로 5등분으로 나누어서 학습/검증 모델 생성 진행\n",
    "result=cross_validate(forestModel,\n",
    "                     train_input,\n",
    "                     train_target,\n",
    "                     return_train_score=True)\n",
    "print('train_score: ', np.mean(result['train_score']), '\\ntest_score: ', np.mean(result['test_score']))"
   ]
  },
  {
   "cell_type": "markdown",
   "id": "53b9a7ef",
   "metadata": {},
   "source": [
    "## [4] 테스트 => predict() : 새로운 데이터로 진행\n",
    "---\n",
    "- 영어 글귀로 예측해보기"
   ]
  },
  {
   "cell_type": "code",
   "execution_count": 664,
   "id": "e2a2218e",
   "metadata": {},
   "outputs": [],
   "source": [
    "# 알파벳 빈도 수 체크\n",
    "f=open('./lang/pd.txt', 'r', encoding = 'utf-8')  # 파일명의 텍스트 파일을 읽기전용으로 열기\n",
    "text = f.read()  # 읽어온 텍스트파일의 전체를 하나의 문자열로 읽기\n",
    "text = text.lower()  # 텍스트파일 전체를 소문자로 바꾸기\n",
    "f.close()\n",
    "r_text=re.sub(\"[^a-z]\",\"\",text)\n",
    "\n",
    "Alphabet = 'abcdefghijklmnopqrstuvwxyz'\n",
    "\n",
    "d = [0] * 26\n",
    "\n",
    "for i in r_text:\n",
    "    if i in Alphabet:\n",
    "        idx = Alphabet.find(i)\n",
    "        d[idx] += 1\n",
    "\n",
    "d = pd.Series(d)\n",
    "d = (d / sum(d)) * 100\n",
    "d = d.to_numpy()\n",
    "d = d.reshape(1, -1)"
   ]
  },
  {
   "cell_type": "code",
   "execution_count": 665,
   "id": "c4fabfc7",
   "metadata": {},
   "outputs": [
    {
     "name": "stdout",
     "output_type": "stream",
     "text": [
      "['en']\n",
      "['en']\n",
      "['en']\n",
      "['fr']\n",
      "['en']\n"
     ]
    }
   ],
   "source": [
    "print(model.predict(d))\n",
    "print(sc.predict(d))\n",
    "print(svm_clf.predict(d))\n",
    "print(dtModel.predict(d))\n",
    "print(forestModel.predict(d))"
   ]
  }
 ],
 "metadata": {
  "kernelspec": {
   "display_name": "Python 3 (ipykernel)",
   "language": "python",
   "name": "python3"
  },
  "language_info": {
   "codemirror_mode": {
    "name": "ipython",
    "version": 3
   },
   "file_extension": ".py",
   "mimetype": "text/x-python",
   "name": "python",
   "nbconvert_exporter": "python",
   "pygments_lexer": "ipython3",
   "version": "3.9.12"
  }
 },
 "nbformat": 4,
 "nbformat_minor": 5
}
